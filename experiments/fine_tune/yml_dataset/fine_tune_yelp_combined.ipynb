{
 "cells": [
  {
   "cell_type": "code",
   "execution_count": 1,
   "metadata": {},
   "outputs": [
    {
     "name": "stdout",
     "output_type": "stream",
     "text": [
      "fatal: destination path 'mergekit' already exists and is not an empty directory.\n",
      "mllm/fine_tune/yml_dataset/mergekit\n",
      "Defaulting to user installation because normal site-packages is not writeable\n",
      "\u001b[33mDEPRECATION: Loading egg at /system/linux/mambaforge-3.11/lib/python3.11/site-packages/matlabengineforpython-9.14-py3.11.egg is deprecated. pip 24.3 will enforce this behaviour change. A possible replacement is to use pip for package installation.. Discussion can be found at https://github.com/pypa/pip/issues/12330\u001b[0m\u001b[33m\n",
      "\u001b[0mObtaining file://mllm/fine_tune/yml_dataset/mergekit\n",
      "  Installing build dependencies ... \u001b[?25ldone\n",
      "\u001b[?25h  Checking if build backend supports build_editable ... \u001b[?25ldone\n",
      "\u001b[?25h  Getting requirements to build editable ... \u001b[?25ldone\n",
      "\u001b[?25h  Installing backend dependencies ... \u001b[?25ldone\n",
      "\u001b[?25h  Preparing editable metadata (pyproject.toml) ... \u001b[?25ldone\n",
      "\u001b[?25hRequirement already satisfied: torch>=2.0.0 in /usr/local/linux/mambaforge-3.11/lib/python3.11/site-packages (from mergekit==0.0.4.1) (2.0.0)\n",
      "Requirement already satisfied: tqdm==4.66.2 in .local/lib/python3.11/site-packages (from mergekit==0.0.4.1) (4.66.2)\n",
      "Requirement already satisfied: click==8.1.7 in .local/lib/python3.11/site-packages (from mergekit==0.0.4.1) (8.1.7)\n",
      "Requirement already satisfied: safetensors~=0.4.2 in .local/lib/python3.11/site-packages (from mergekit==0.0.4.1) (0.4.2)\n",
      "Requirement already satisfied: accelerate~=0.27.2 in .local/lib/python3.11/site-packages (from mergekit==0.0.4.1) (0.27.2)\n",
      "Requirement already satisfied: pydantic==2.6.2 in .local/lib/python3.11/site-packages (from mergekit==0.0.4.1) (2.6.2)\n",
      "Requirement already satisfied: immutables==0.20 in .local/lib/python3.11/site-packages (from mergekit==0.0.4.1) (0.20)\n",
      "Requirement already satisfied: transformers in .local/lib/python3.11/site-packages (from mergekit==0.0.4.1) (4.37.2)\n",
      "Requirement already satisfied: huggingface-hub in .local/lib/python3.11/site-packages (from mergekit==0.0.4.1) (0.21.3)\n",
      "Requirement already satisfied: peft in .local/lib/python3.11/site-packages (from mergekit==0.0.4.1) (0.8.2)\n",
      "Requirement already satisfied: typing-extensions in .local/lib/python3.11/site-packages (from mergekit==0.0.4.1) (4.9.0)\n",
      "Requirement already satisfied: sentencepiece in .local/lib/python3.11/site-packages (from mergekit==0.0.4.1) (0.2.0)\n",
      "Requirement already satisfied: protobuf in /usr/local/linux/mambaforge-3.11/lib/python3.11/site-packages (from mergekit==0.0.4.1) (4.21.10)\n",
      "Requirement already satisfied: annotated-types>=0.4.0 in .local/lib/python3.11/site-packages (from pydantic==2.6.2->mergekit==0.0.4.1) (0.6.0)\n",
      "Requirement already satisfied: pydantic-core==2.16.3 in .local/lib/python3.11/site-packages (from pydantic==2.6.2->mergekit==0.0.4.1) (2.16.3)\n",
      "Requirement already satisfied: numpy>=1.17 in /usr/local/linux/mambaforge-3.11/lib/python3.11/site-packages (from accelerate~=0.27.2->mergekit==0.0.4.1) (1.23.5)\n",
      "Requirement already satisfied: packaging>=20.0 in /usr/local/linux/mambaforge-3.11/lib/python3.11/site-packages (from accelerate~=0.27.2->mergekit==0.0.4.1) (21.3)\n",
      "Requirement already satisfied: psutil in /usr/local/linux/mambaforge-3.11/lib/python3.11/site-packages (from accelerate~=0.27.2->mergekit==0.0.4.1) (5.9.4)\n",
      "Requirement already satisfied: pyyaml in /usr/local/linux/mambaforge-3.11/lib/python3.11/site-packages (from accelerate~=0.27.2->mergekit==0.0.4.1) (6.0)\n",
      "Requirement already satisfied: filelock in /usr/local/linux/mambaforge-3.11/lib/python3.11/site-packages (from torch>=2.0.0->mergekit==0.0.4.1) (3.8.2)\n",
      "Requirement already satisfied: sympy in /usr/local/linux/mambaforge-3.11/lib/python3.11/site-packages (from torch>=2.0.0->mergekit==0.0.4.1) (1.11.1)\n",
      "Requirement already satisfied: networkx in /usr/local/linux/mambaforge-3.11/lib/python3.11/site-packages (from torch>=2.0.0->mergekit==0.0.4.1) (2.8.8)\n",
      "Requirement already satisfied: jinja2 in /usr/local/linux/mambaforge-3.11/lib/python3.11/site-packages (from torch>=2.0.0->mergekit==0.0.4.1) (3.1.2)\n",
      "Requirement already satisfied: nvidia-cuda-nvrtc-cu11==11.7.99 in /usr/local/linux/mambaforge-3.11/lib/python3.11/site-packages (from torch>=2.0.0->mergekit==0.0.4.1) (11.7.99)\n",
      "Requirement already satisfied: nvidia-cuda-runtime-cu11==11.7.99 in /usr/local/linux/mambaforge-3.11/lib/python3.11/site-packages (from torch>=2.0.0->mergekit==0.0.4.1) (11.7.99)\n",
      "Requirement already satisfied: nvidia-cuda-cupti-cu11==11.7.101 in /usr/local/linux/mambaforge-3.11/lib/python3.11/site-packages (from torch>=2.0.0->mergekit==0.0.4.1) (11.7.101)\n",
      "Requirement already satisfied: nvidia-cudnn-cu11==8.5.0.96 in .local/lib/python3.11/site-packages (from torch>=2.0.0->mergekit==0.0.4.1) (8.5.0.96)\n",
      "Requirement already satisfied: nvidia-cublas-cu11==11.10.3.66 in .local/lib/python3.11/site-packages (from torch>=2.0.0->mergekit==0.0.4.1) (11.10.3.66)\n",
      "Requirement already satisfied: nvidia-cufft-cu11==10.9.0.58 in /usr/local/linux/mambaforge-3.11/lib/python3.11/site-packages (from torch>=2.0.0->mergekit==0.0.4.1) (10.9.0.58)\n",
      "Requirement already satisfied: nvidia-curand-cu11==10.2.10.91 in /usr/local/linux/mambaforge-3.11/lib/python3.11/site-packages (from torch>=2.0.0->mergekit==0.0.4.1) (10.2.10.91)\n",
      "Requirement already satisfied: nvidia-cusolver-cu11==11.4.0.1 in /usr/local/linux/mambaforge-3.11/lib/python3.11/site-packages (from torch>=2.0.0->mergekit==0.0.4.1) (11.4.0.1)\n",
      "Requirement already satisfied: nvidia-cusparse-cu11==11.7.4.91 in /usr/local/linux/mambaforge-3.11/lib/python3.11/site-packages (from torch>=2.0.0->mergekit==0.0.4.1) (11.7.4.91)\n",
      "Requirement already satisfied: nvidia-nccl-cu11==2.14.3 in /usr/local/linux/mambaforge-3.11/lib/python3.11/site-packages (from torch>=2.0.0->mergekit==0.0.4.1) (2.14.3)\n",
      "Requirement already satisfied: nvidia-nvtx-cu11==11.7.91 in /usr/local/linux/mambaforge-3.11/lib/python3.11/site-packages (from torch>=2.0.0->mergekit==0.0.4.1) (11.7.91)\n",
      "Requirement already satisfied: triton==2.0.0 in /usr/local/linux/mambaforge-3.11/lib/python3.11/site-packages (from torch>=2.0.0->mergekit==0.0.4.1) (2.0.0)\n",
      "Requirement already satisfied: setuptools in /usr/local/linux/mambaforge-3.11/lib/python3.11/site-packages (from nvidia-cublas-cu11==11.10.3.66->torch>=2.0.0->mergekit==0.0.4.1) (65.5.1)\n",
      "Requirement already satisfied: wheel in /usr/local/linux/mambaforge-3.11/lib/python3.11/site-packages (from nvidia-cublas-cu11==11.10.3.66->torch>=2.0.0->mergekit==0.0.4.1) (0.38.4)\n",
      "Requirement already satisfied: cmake in /usr/local/linux/mambaforge-3.11/lib/python3.11/site-packages (from triton==2.0.0->torch>=2.0.0->mergekit==0.0.4.1) (3.26.1)\n",
      "Requirement already satisfied: lit in /usr/local/linux/mambaforge-3.11/lib/python3.11/site-packages (from triton==2.0.0->torch>=2.0.0->mergekit==0.0.4.1) (16.0.0)\n",
      "Requirement already satisfied: fsspec>=2023.5.0 in .local/lib/python3.11/site-packages (from huggingface-hub->mergekit==0.0.4.1) (2023.10.0)\n",
      "Requirement already satisfied: requests in /usr/local/linux/mambaforge-3.11/lib/python3.11/site-packages (from huggingface-hub->mergekit==0.0.4.1) (2.28.1)\n",
      "Requirement already satisfied: regex!=2019.12.17 in /usr/local/linux/mambaforge-3.11/lib/python3.11/site-packages (from transformers->mergekit==0.0.4.1) (2022.10.31)\n",
      "Requirement already satisfied: tokenizers<0.19,>=0.14 in .local/lib/python3.11/site-packages (from transformers->mergekit==0.0.4.1) (0.15.2)\n",
      "Requirement already satisfied: pyparsing!=3.0.5,>=2.0.2 in /usr/local/linux/mambaforge-3.11/lib/python3.11/site-packages (from packaging>=20.0->accelerate~=0.27.2->mergekit==0.0.4.1) (3.0.9)\n",
      "Requirement already satisfied: MarkupSafe>=2.0 in /usr/local/linux/mambaforge-3.11/lib/python3.11/site-packages (from jinja2->torch>=2.0.0->mergekit==0.0.4.1) (2.1.1)\n",
      "Requirement already satisfied: charset-normalizer<3,>=2 in /usr/local/linux/mambaforge-3.11/lib/python3.11/site-packages (from requests->huggingface-hub->mergekit==0.0.4.1) (2.1.1)\n",
      "Requirement already satisfied: idna<4,>=2.5 in /usr/local/linux/mambaforge-3.11/lib/python3.11/site-packages (from requests->huggingface-hub->mergekit==0.0.4.1) (3.4)\n",
      "Requirement already satisfied: urllib3<1.27,>=1.21.1 in /usr/local/linux/mambaforge-3.11/lib/python3.11/site-packages (from requests->huggingface-hub->mergekit==0.0.4.1) (1.26.13)\n",
      "Requirement already satisfied: certifi>=2017.4.17 in /usr/local/linux/mambaforge-3.11/lib/python3.11/site-packages (from requests->huggingface-hub->mergekit==0.0.4.1) (2023.11.17)\n",
      "Requirement already satisfied: mpmath>=0.19 in /usr/local/linux/mambaforge-3.11/lib/python3.11/site-packages (from sympy->torch>=2.0.0->mergekit==0.0.4.1) (1.3.0)\n",
      "Building wheels for collected packages: mergekit\n",
      "  Building editable for mergekit (pyproject.toml) ... \u001b[?25ldone\n",
      "\u001b[?25h  Created wheel for mergekit: filename=mergekit-0.0.4.1-0.editable-py3-none-any.whl size=9681 sha256=9dcd95fefbf5bfa8d421f5372c7c9b0a901c8e24928dd6789aae122967f8e434\n",
      "  Stored in directory: /tmp/pip-ephem-wheel-cache-sk2qk7jj/wheels/a4/5d/84/89f8701040f029662fce0cb593becac8cc841f1573ce336afe\n",
      "Successfully built mergekit\n",
      "Installing collected packages: mergekit\n",
      "  Attempting uninstall: mergekit\n",
      "    Found existing installation: mergekit 0.0.4.1\n",
      "    Uninstalling mergekit-0.0.4.1:\n",
      "      Successfully uninstalled mergekit-0.0.4.1\n",
      "\u001b[33m  WARNING: The scripts bakllama, mergekit-layershuffle, mergekit-legacy, mergekit-mega, mergekit-moe and mergekit-yaml are installed in '.local/bin' which is not on PATH.\n",
      "  Consider adding this directory to PATH or, if you prefer to suppress this warning, use --no-warn-script-location.\u001b[0m\u001b[33m\n",
      "\u001b[0mSuccessfully installed mergekit-0.0.4.1\n",
      "Note: you may need to restart the kernel to use updated packages.\n"
     ]
    }
   ],
   "source": [
    "!git clone https://github.com/cg123/mergekit.git\n",
    "%cd mergekit\n",
    "%pip install -e ."
   ]
  },
  {
   "cell_type": "code",
   "execution_count": 8,
   "metadata": {},
   "outputs": [],
   "source": [
    "OUTPUT_PATH = \"./merged_finetune_gpt2_yelp\"  # folder to store the result in\n",
    "LORA_MERGE_CACHE = \"/tmp\"  # change if you want to keep these for some reason\n",
    "CONFIG_YML = \"mllm/test_merge/fine_tune_yelp_combined.yml\"  # merge configuration file\n",
    "COPY_TOKENIZER = True  # you want a tokenizer? yeah, that's what i thought\n",
    "LAZY_UNPICKLE = False  # experimental low-memory model loader\n",
    "LOW_CPU_MEMORY = False  # enable if you somehow have more VRAM than RAM+swap"
   ]
  },
  {
   "cell_type": "code",
   "execution_count": 9,
   "metadata": {},
   "outputs": [
    {
     "name": "stderr",
     "output_type": "stream",
     "text": [
      "Warmup loader cache: 100%|██████████| 2/2 [00:00<00:00, 20460.02it/s]\n",
      "100%|██████████| 819/819 [00:03<00:00, 232.36it/s] \n"
     ]
    },
    {
     "name": "stdout",
     "output_type": "stream",
     "text": [
      "Done!\n"
     ]
    }
   ],
   "source": [
    "# actually do merge\n",
    "import torch\n",
    "import yaml\n",
    "\n",
    "from mergekit.config import MergeConfiguration\n",
    "from mergekit.merge import MergeOptions, run_merge\n",
    "\n",
    "with open(CONFIG_YML, \"r\", encoding=\"utf-8\") as fp:\n",
    "    merge_config = MergeConfiguration.model_validate(yaml.safe_load(fp))\n",
    "\n",
    "run_merge(\n",
    "    merge_config,\n",
    "    out_path=OUTPUT_PATH,\n",
    "    options=MergeOptions(\n",
    "        lora_merge_cache=LORA_MERGE_CACHE,\n",
    "        cuda=torch.cuda.is_available(),\n",
    "        copy_tokenizer=COPY_TOKENIZER,\n",
    "        lazy_unpickle=LAZY_UNPICKLE,\n",
    "        low_cpu_memory=LOW_CPU_MEMORY,\n",
    "        allow_crimes=True\n",
    "    ),\n",
    ")\n",
    "print(\"Done!\")"
   ]
  },
  {
   "cell_type": "code",
   "execution_count": 10,
   "metadata": {},
   "outputs": [],
   "source": [
    "from huggingface_hub import ModelCard, ModelCardData\n",
    "from jinja2 import Template"
   ]
  },
  {
   "cell_type": "code",
   "execution_count": 14,
   "metadata": {},
   "outputs": [],
   "source": [
    "username = HF_USERNAME\n",
    "\n",
    "template_text = \"\"\"\n",
    "---\n",
    "license: apache-2.0\n",
    "tags:\n",
    "- merge\n",
    "- mergekit\n",
    "- lazymergekit\n",
    "{%- for model in models %}\n",
    "- {{ model }}\n",
    "{%- endfor %}\n",
    "---\n",
    "\n",
    "# {{ model_name }}\n",
    "\n",
    "{{ model_name }} is a merge of the following models using [mergekit](https://github.com/cg123/mergekit):\n",
    "\n",
    "{%- for model in models %}\n",
    "* [{{ model }}](https://huggingface.co/{{ model }})\n",
    "{%- endfor %}\n",
    "\n",
    "## 🧩 Configuration\n",
    "\n",
    "\\```yaml\n",
    "{{- yaml_config -}}\n",
    "\\```\n",
    "\"\"\"\n",
    "yaml_config = \"\"\"\n",
    "models:\n",
    "  - model: yelp_finetune_epoch_1_gpt2_1\n",
    "    parameters:\n",
    "      weight: 1.0\n",
    "\n",
    "  - model: yelp_finetune_epoch_1_gpt2_2\n",
    "    parameters:\n",
    "      weight: 1.0\n",
    "\n",
    "merge_method: linear\n",
    "dtype: float16\n",
    "\"\"\"\n",
    "# Create a Jinja template object\n",
    "jinja_template = Template(template_text.strip())\n",
    "data = yaml.safe_load(yaml_config)\n",
    "MODEL_NAME = \"Merged_yml\"\n",
    "if \"models\" in data:\n",
    "    models = [data[\"models\"][i][\"model\"] for i in range(len(data[\"models\"])) if \"parameters\" in data[\"models\"][i]]\n",
    "elif \"parameters\" in data:\n",
    "    models = [data[\"slices\"][0][\"sources\"][i][\"model\"] for i in range(len(data[\"slices\"][0][\"sources\"]))]\n",
    "elif \"slices\" in data:\n",
    "    models = [data[\"slices\"][i][\"sources\"][0][\"model\"] for i in range(len(data[\"slices\"]))]\n",
    "else:\n",
    "    raise Exception(\"No models or slices found in yaml config\")\n",
    "\n",
    "# Fill the template\n",
    "content = jinja_template.render(\n",
    "    model_name=MODEL_NAME,\n",
    "    models=models,\n",
    "    yaml_config=yaml_config,\n",
    "    username=username,\n",
    ")\n",
    "\n",
    "# Save the model card\n",
    "card = ModelCard(content)\n",
    "card.save('merge/README.md')"
   ]
  },
  {
   "cell_type": "code",
   "execution_count": 15,
   "metadata": {},
   "outputs": [
    {
     "data": {
      "application/vnd.jupyter.widget-view+json": {
       "model_id": "9b7566ba1f004389afc487837929e486",
       "version_major": 2,
       "version_minor": 0
      },
      "text/plain": [
       "model-00001-of-00001.safetensors:   0%|          | 0.00/249M [00:00<?, ?B/s]"
      ]
     },
     "metadata": {},
     "output_type": "display_data"
    },
    {
     "data": {
      "text/plain": [
       "CommitInfo(commit_url='https://huggingface.co/Phudish/Merged_yml/commit/4765047f8a8350192bf10bad9528b4b55dbcfded', commit_message='Upload folder using huggingface_hub', commit_description='', oid='4765047f8a8350192bf10bad9528b4b55dbcfded', pr_url=None, pr_revision=None, pr_num=None)"
      ]
     },
     "execution_count": 15,
     "metadata": {},
     "output_type": "execute_result"
    }
   ],
   "source": [
    "from huggingface_hub import HfApi\n",
    "\n",
    "username = HF_USERNAME\n",
    "\n",
    "# Defined in the secrets tab in Google Colab\n",
    "api = HfApi(token=HF_TOKEN)\n",
    "\n",
    "api.create_repo(\n",
    "    repo_id=f\"{username}/{MODEL_NAME}\",\n",
    "    repo_type=\"model\"\n",
    ")\n",
    "api.upload_folder(\n",
    "    repo_id=f\"{username}/{MODEL_NAME}\",\n",
    "    folder_path=\"merged_finetune_gpt2_yelp\",\n",
    ")\n"
   ]
  },
  {
   "cell_type": "code",
   "execution_count": null,
   "metadata": {},
   "outputs": [],
   "source": []
  },
  {
   "cell_type": "code",
   "execution_count": null,
   "metadata": {},
   "outputs": [],
   "source": []
  }
 ],
 "metadata": {
  "kernelspec": {
   "display_name": "base",
   "language": "python",
   "name": "python3"
  },
  "language_info": {
   "codemirror_mode": {
    "name": "ipython",
    "version": 3
   },
   "file_extension": ".py",
   "mimetype": "text/x-python",
   "name": "python",
   "nbconvert_exporter": "python",
   "pygments_lexer": "ipython3",
   "version": "3.11.0"
  },
  "orig_nbformat": 4
 },
 "nbformat": 4,
 "nbformat_minor": 2
}
