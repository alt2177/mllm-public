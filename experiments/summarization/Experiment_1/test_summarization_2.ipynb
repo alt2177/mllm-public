{
 "cells": [
  {
   "cell_type": "code",
   "execution_count": 1,
   "metadata": {},
   "outputs": [],
   "source": [
    "text = \"The Inflation Reduction Act lowers prescription drug costs, health care costs, and energy costs. It's the most aggressive action on tackling the climate crisis in American history, which will lift up American workers and create good-paying, union jobs across the country. It'll lower the deficit and ask the ultra-wealthy and corporations to pay their fair share. And no one making under $400,000 per year will pay a penny more in taxes.\"\n",
    "input = text + \"\\nTL;DR:\\n\""
   ]
  },
  {
   "cell_type": "code",
   "execution_count": 2,
   "metadata": {},
   "outputs": [
    {
     "name": "stdout",
     "output_type": "stream",
     "text": [
      "The Inflation Reduction Act lowers prescription drug costs, health care costs, and energy costs. It's the most aggressive action on tackling the climate crisis in American history, which will lift up American workers and create good-paying, union jobs across the country. It'll lower the deficit and ask the ultra-wealthy and corporations to pay their fair share. And no one making under $400,000 per year will pay a penny more in taxes.\n",
      "TL;DR:\n",
      "\n"
     ]
    }
   ],
   "source": [
    "print(input)"
   ]
  },
  {
   "cell_type": "code",
   "execution_count": 3,
   "metadata": {},
   "outputs": [
    {
     "name": "stderr",
     "output_type": "stream",
     "text": [
      "2024-03-26 18:22:07.793142: I tensorflow/core/platform/cpu_feature_guard.cc:182] This TensorFlow binary is optimized to use available CPU instructions in performance-critical operations.\n",
      "To enable the following instructions: AVX2 FMA, in other operations, rebuild TensorFlow with the appropriate compiler flags.\n",
      "2024-03-26 18:22:08.935265: W tensorflow/compiler/tf2tensorrt/utils/py_utils.cc:38] TF-TRT Warning: Could not find TensorRT\n"
     ]
    },
    {
     "data": {
      "application/vnd.jupyter.widget-view+json": {
       "model_id": "cb8f0180ae3045e496d9544036c28959",
       "version_major": 2,
       "version_minor": 0
      },
      "text/plain": [
       "config.json:   0%|          | 0.00/989 [00:00<?, ?B/s]"
      ]
     },
     "metadata": {},
     "output_type": "display_data"
    },
    {
     "data": {
      "application/vnd.jupyter.widget-view+json": {
       "model_id": "cfffd9f72d0847b89bd78265fb1be2c0",
       "version_major": 2,
       "version_minor": 0
      },
      "text/plain": [
       "model.safetensors:   0%|          | 0.00/1.42G [00:00<?, ?B/s]"
      ]
     },
     "metadata": {},
     "output_type": "display_data"
    },
    {
     "data": {
      "application/vnd.jupyter.widget-view+json": {
       "model_id": "3a92a4df2e8042d6b8e91515e0528d6e",
       "version_major": 2,
       "version_minor": 0
      },
      "text/plain": [
       "tokenizer_config.json:   0%|          | 0.00/502 [00:00<?, ?B/s]"
      ]
     },
     "metadata": {},
     "output_type": "display_data"
    },
    {
     "data": {
      "application/vnd.jupyter.widget-view+json": {
       "model_id": "03e464177c804fc7aec7d76f98c29acf",
       "version_major": 2,
       "version_minor": 0
      },
      "text/plain": [
       "tokenizer.json:   0%|          | 0.00/2.11M [00:00<?, ?B/s]"
      ]
     },
     "metadata": {},
     "output_type": "display_data"
    },
    {
     "name": "stderr",
     "output_type": "stream",
     "text": [
      "Truncation was not explicitly activated but `max_length` is provided a specific value, please use `truncation=True` to explicitly truncate examples to max length. Defaulting to 'longest_first' truncation strategy. If you encode pairs of sequences (GLUE-style) with the tokenizer you can select this strategy more precisely by providing a specific strategy to `truncation`.\n"
     ]
    }
   ],
   "source": [
    "from transformers import pipeline\n",
    "pipe = pipeline(\"text-generation\", model=\"bill_sum_experiment_2\")\n",
    "pipe_out = pipe(input, max_length=512, clean_up_tokenization_spaces=True)"
   ]
  },
  {
   "cell_type": "code",
   "execution_count": 4,
   "metadata": {},
   "outputs": [
    {
     "name": "stdout",
     "output_type": "stream",
     "text": [
      "The Inflation Reduction Act lowers prescription drug costs, health care costs, and energy costs. It's the most aggressive action on tackling the climate crisis in American history, which will lift up American workers and create good-paying, union jobs across the country. It'll lower the deficit and ask the ultra-wealthy and corporations to pay their fair share. And no one making under $400,000 per year will pay a penny more in taxes.\n",
      "TL;DR:\n",
      ", provide and of care state, low as that care aEx the provides services health the Act foristingEx program as federal, wouldEx health law Servicesisting, low under state Ex Social of Health a,Ex administeredExisting state that, Services ofEx by theEx ServicesEx qualified program- Health ExistingEx federalThis Ex,,Ex law stateEx federal to healthEx for,, or Department Medicaid Existing the,istingEx the anomalies benefitsExEx, a to of the for, health lawisting, to Program, the Ex individuals providesür, Ex Ex\n",
      " programEx under the the healthEx Medicaid for, Ex to under care, Program, and of care, to underEx the aEx Program and care Ex ProgramCalEx as care care programsEx, Ex Health a Ex ExEx the that., with asEx theEx Care a, Ex.. theEx,Ex CareEx Health Ex a in asisting, Act Ex-Existing to- andEx Health California and ExEx Department a Ex by the Ex a theEx inEx to lawEx of would be that or,, services Health in HealthEx the Ex asEx the Act Ex the, the by under and andEx Ex programs Ex specifiedEx the the of health Ex with be Ex Ex, fromEx, state to Ex would,, to Ex ExEx,ExEx theincomeThe andExEx StateEx byEx that by Department underEx for.,, program,ExEx to, Ex to and, for, ExThis Ex in Existing stateThe under Ex to to ExEx or health, byExThis Ex be Program\n",
      " HealthExEx low and aThis Health,, in ofEx stateEx including the for to theCal theEx a and, actEx andEx and ofThis healthThis state which for billThis Ex of for under\n",
      ". by, for, care andEx, Ex of of.Ex Ex to of, program care a state andThis on care as by the as\n",
      ", andisting, Act to on the\n"
     ]
    }
   ],
   "source": [
    "print(pipe_out[0]['generated_text'])"
   ]
  },
  {
   "cell_type": "code",
   "execution_count": 5,
   "metadata": {},
   "outputs": [
    {
     "name": "stdout",
     "output_type": "stream",
     "text": [
      ", provide and of care state, low as that care aEx the provides services health the Act foristingEx program as federal, wouldEx health law Servicesisting, low under state Ex Social of Health a,Ex administeredExisting state that, Services ofEx by theEx ServicesEx qualified program- Health ExistingEx federalThis Ex,,Ex law stateEx federal to healthEx for,, or Department Medicaid Existing the,istingEx the anomalies benefitsExEx, a to of the for, health lawisting, to Program, the Ex individuals providesür, Ex Ex\n",
      " programEx under the the healthEx Medicaid for, Ex to under care, Program, and of care, to underEx the aEx Program and care Ex ProgramCalEx as care care programsEx, Ex Health a Ex ExEx the that., with asEx theEx Care a, Ex.. theEx,Ex CareEx Health Ex a in asisting, Act Ex-Existing to- andEx Health California and ExEx Department a Ex by the Ex a theEx inEx to lawEx of would be that or,, services Health in HealthEx the Ex asEx the Act Ex the, the by under and andEx Ex programs Ex specifiedEx the the of health Ex with be Ex Ex, fromEx, state to Ex would,, to Ex ExEx,ExEx theincomeThe andExEx StateEx byEx that by Department underEx for.,, program,ExEx to, Ex to and, for, ExThis Ex in Existing stateThe under Ex to to ExEx or health, byExThis Ex be Program\n",
      " HealthExEx low and aThis Health,, in ofEx stateEx including the for to theCal theEx a and, actEx andEx and ofThis healthThis state which for billThis Ex of for under\n",
      ". by, for, care andEx, Ex of of.Ex Ex to of, program care a state andThis on care as by the as\n",
      ", andisting, Act to on the\n"
     ]
    }
   ],
   "source": [
    "print(pipe_out[0]['generated_text'][len(input):])"
   ]
  },
  {
   "cell_type": "code",
   "execution_count": 14,
   "metadata": {},
   "outputs": [],
   "source": [
    "text = \"summarize: The Inflation Reduction Act lowers prescription drug costs, health care costs, and energy costs. It's the most aggressive action on tackling the climate crisis in American history, which will lift up American workers and create good-paying, union jobs across the country. It'll lower the deficit and ask the ultra-wealthy and corporations to pay their fair share. And no one making under $400,000 per year will pay a penny more in taxes.\""
   ]
  },
  {
   "cell_type": "code",
   "execution_count": 15,
   "metadata": {},
   "outputs": [
    {
     "name": "stderr",
     "output_type": "stream",
     "text": [
      "Your max_length is set to 200, but your input_length is only 103. Since this is a summarization task, where outputs shorter than the input are typically wanted, you might consider decreasing max_length manually, e.g. summarizer('...', max_length=51)\n"
     ]
    },
    {
     "data": {
      "text/plain": [
       "[{'summary_text': \"the Inflation Reduction Act lowers prescription drug costs, health care costs, and energy costs. It's the most aggressive action on tackling the climate crisis in American history, which will lift up American workers and create good-paying, union jobs across the country.\"}]"
      ]
     },
     "execution_count": 15,
     "metadata": {},
     "output_type": "execute_result"
    }
   ],
   "source": [
    "from transformers import pipeline\n",
    "\n",
    "summarizer = pipeline(\"summarization\", model=\"stevhliu/my_awesome_billsum_model\")\n",
    "summarizer(text)"
   ]
  },
  {
   "cell_type": "code",
   "execution_count": null,
   "metadata": {},
   "outputs": [],
   "source": []
  }
 ],
 "metadata": {
  "kernelspec": {
   "display_name": "base",
   "language": "python",
   "name": "python3"
  },
  "language_info": {
   "codemirror_mode": {
    "name": "ipython",
    "version": 3
   },
   "file_extension": ".py",
   "mimetype": "text/x-python",
   "name": "python",
   "nbconvert_exporter": "python",
   "pygments_lexer": "ipython3",
   "version": "3.11.0"
  }
 },
 "nbformat": 4,
 "nbformat_minor": 2
}
