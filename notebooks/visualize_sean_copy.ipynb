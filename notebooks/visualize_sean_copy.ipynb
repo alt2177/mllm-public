{
 "cells": [
  {
   "cell_type": "markdown",
   "metadata": {
    "jukit_cell_id": "ISV3Q4HYZQ"
   },
   "source": [
    "# Data Visualization\n",
    "\n",
    "This notebook is meant for data visualization and (potential) preprocessing before using the data for model training. Our data is stored on XetHub, and we will use the Python SDK they provide to access our data without the need for local copies. \n",
    "\n",
    "First, installation of `pyxet` and other dependencies:"
   ]
  },
  {
   "cell_type": "code",
   "execution_count": null,
   "metadata": {
    "jukit_cell_id": "ESapP0plJi"
   },
   "outputs": [],
   "source": [
    "%pip install pyxet\n",
    "%pip install polars\n",
    "%pip install pandas\n",
    "%pip install numpy\n",
    "%pip install pyarrow"
   ]
  },
  {
   "cell_type": "code",
   "execution_count": null,
   "metadata": {
    "jukit_cell_id": "WthiWdIKYx"
   },
   "outputs": [],
   "source": [
    "%pip install datasets"
   ]
  },
  {
   "cell_type": "code",
   "execution_count": 1,
   "metadata": {
    "jukit_cell_id": "qIursMh7Hg"
   },
   "outputs": [],
   "source": [
    "import pyxet         # make xet:// protocol available   \n",
    "import pandas as pd \n",
    "import polars as pl  # faster alternative to pandas\n",
    "import numpy as np\n",
    "import pyarrow\n",
    "import matplotlib\n",
    "import matplotlib.pyplot as plt\n",
    "\n",
    "matplotlib.rcParams['axes.unicode_minus']=False   #These two lines need to be set manually\n",
    "# fix matplotlib error\n",
    "# matplotlib.rcParams.update(\n",
    "#     {\n",
    "#         'text.usetex': False,\n",
    "#         'font.family': 'stixgeneral',\n",
    "#         'mathtext.fontset': 'stix',\n",
    "#     }\n",
    "#   )\n",
    "\n",
    "fs = pyxet.XetFS()"
   ]
  },
  {
   "cell_type": "markdown",
   "metadata": {
    "jukit_cell_id": "4jPSkLc6p9"
   },
   "source": [
    "# Drug Review Dataset (UCI)"
   ]
  },
  {
   "cell_type": "code",
   "execution_count": null,
   "metadata": {
    "jukit_cell_id": "46L995bhcr"
   },
   "outputs": [],
   "source": [
    "# get the drug training and testing data\n",
    "df_drugs_train = pl.read_csv('xet://drug_data/drugsComTrain_raw.tsv', separator = '\\t')\n",
    "df_drugs_test = pl.read_csv('xet://drug_data/drugsComTest_raw.tsv', separator = '\\t')\n",
    "print(df_drugs_train.shape)\n",
    "print(df_drugs_test.shape)\n",
    "df_drugs_train.head(10)"
   ]
  },
  {
   "cell_type": "code",
   "execution_count": null,
   "metadata": {
    "jukit_cell_id": "wgFoMZLF7L"
   },
   "outputs": [],
   "source": [
    "df_drugs_train[\"review\"][0]"
   ]
  },
  {
   "cell_type": "code",
   "execution_count": null,
   "metadata": {
    "jukit_cell_id": "dAqe1ERVIx"
   },
   "outputs": [],
   "source": [
    "print(df_drugs_train.select(\"rating\"))\n",
    "\n",
    "# create scatter plot\n",
    "plt.figure(figsize = (10, 6))\n",
    "\n",
    "# Remove top and \n",
    "ax = plt.gca()\n",
    "ax.spines['top'].set_visible(False)\n",
    "ax.spines['right'].set_visible(False)\n",
    "\n",
    "# labels\n",
    "plt.hist(df_drugs_train.select(\"rating\"))\n",
    "plt.title(\"Predicting `MedHouseval` on `MedInc`\")\n",
    "plt.xlabel('MedInc')\n",
    "plt.ylabel('MedHouseVal')\n",
    "plt.legend()\n",
    "plt.savefig(\"images/rating_distribution.png\")\n",
    "plt.show()"
   ]
  },
  {
   "cell_type": "markdown",
   "metadata": {
    "jukit_cell_id": "Svziulo8Sh"
   },
   "source": [
    "## Data Description / Visualization"
   ]
  },
  {
   "cell_type": "markdown",
   "metadata": {
    "jukit_cell_id": "9MapHZqZD1"
   },
   "source": [
    "### Training Data"
   ]
  },
  {
   "cell_type": "code",
   "execution_count": null,
   "metadata": {
    "jukit_cell_id": "Sf419kjb0F"
   },
   "outputs": [],
   "source": [
    "# df_drugs_train.dtypes  #= [Int64, String, String, String, Float64, String, Int64]\n",
    "df_drugs_train.describe()\n",
    "df_drugs_train.select(pl.all().is_null().sum())\n",
    "\n",
    "#df_drugs_train.select(['rating']).unique()\n",
    "# for cond in df_drugs_train.select(['condition']).unique()['condition']:\n",
    "#     print(cond)\n",
    "# for drug in df_drugs_train.select(['drugName']).unique()['drugName']:\n",
    "#     print(drug)\n",
    "# for rev in df_drugs_train.select(['review']).unique()['review'][0:20]:\n",
    "#     print(rev)\n",
    "\n",
    "review_word_count = df_drugs_train.select(['review']).map_rows(lambda t: len(t[0].split(\" \")))\n",
    "#plt.hist(review_word_count)\n",
    "review_word_count.describe()\n",
    "plt.hist(df_drugs_train['rating'], bins = 10)\n",
    "plt.title(\"Distribution of Rating\")\n",
    "plt.savefig(\"rating_dist\")\n",
    "plt.hist(df_drugs_train['usefulCount'], bins = 100)\n",
    "#df_drugs_train.select(['usefulCount']).unique()"
   ]
  },
  {
   "cell_type": "code",
   "execution_count": 2,
   "metadata": {
    "jukit_cell_id": "snB1DM1M8z"
   },
   "outputs": [],
   "source": [
    "# FOR INTERIM REPORT\n",
    "from datasets import load_dataset\n",
    "\n",
    "dataset = load_dataset(\"billsum\")"
   ]
  },
  {
   "cell_type": "code",
   "execution_count": null,
   "metadata": {
    "jukit_cell_id": "cPIbIpftsX"
   },
   "outputs": [
    {
     "name": "stderr",
     "output_type": "stream",
     "text": [
      "/opt/homebrew/lib/python3.11/site-packages/IPython/core/pylabtools.py:152: UserWarning: Glyph 26 (\u001a) missing from current font.\n",
      "  fig.canvas.print_figure(bytes_io, **kw)\n"
     ]
    }
   ],
   "source": [
    "billsum_train = dataset[\"train\"]\n",
    "\n",
    "# Remove top and \n",
    "plt.figure(figsize = (10, 6))\n",
    "ax = plt.gca()\n",
    "ax.spines['top'].set_visible(False)\n",
    "ax.spines['right'].set_visible(False)\n",
    "\n",
    "plt.hist(billsum_train[\"text\"], bins = 30)\n",
    "plt.title(f'Distribution of Text Feature')\n",
    "plt.xlabel(\"text\")\n",
    "plt.ylabel('Frequency')\n",
    "# plt.savefig(\"images/billsum_text_dist.png\")\n",
    "plt.show()"
   ]
  },
  {
   "cell_type": "code",
   "execution_count": null,
   "metadata": {
    "jukit_cell_id": "668K8p14C1",
    "scrolled": false
   },
   "outputs": [],
   "source": [
    "print(np.quantile(review_word_count, 0.95))\n",
    "print(np.quantile(review_word_count, 0.05)) # 14 words\n",
    "\n",
    "for rev in df_drugs_train.filter(review_word_count['map'] < 5)['review']:\n",
    "   print(rev.strip('\\n'))\n",
    "\n",
    "\n",
    "#    print()\n",
    "#review_word_count\n",
    "#df_drugs_train.filter(review_word_count['map'] > 1000)['review']\n",
    "#df_drugs_train.filter(review_word_count['map'] < 5)['review']"
   ]
  },
  {
   "cell_type": "markdown",
   "metadata": {
    "jukit_cell_id": "ZXGIsF9SJS"
   },
   "source": [
    "There are 5 reviews over 1000 words and two of them look identical. There might be more duplicates in the review column."
   ]
  },
  {
   "cell_type": "code",
   "execution_count": null,
   "metadata": {
    "jukit_cell_id": "3mha2jEL5s"
   },
   "outputs": [],
   "source": [
    "print(\"garbage\")"
   ]
  },
  {
   "cell_type": "markdown",
   "metadata": {
    "jukit_cell_id": "FreBAOWV0l"
   },
   "source": [
    "Getting the basic descriptive stats, data types, etc."
   ]
  },
  {
   "cell_type": "code",
   "execution_count": null,
   "metadata": {
    "jukit_cell_id": "rvNIjVVQD2"
   },
   "outputs": [],
   "source": [
    "# Get descripive stats\n",
    "df_drugs_train.describe()"
   ]
  },
  {
   "cell_type": "code",
   "execution_count": null,
   "metadata": {
    "jukit_cell_id": "lI1CDAjSdq"
   },
   "outputs": [],
   "source": [
    "# get column names and their dtypes\n",
    "df_drugs_train.schema"
   ]
  },
  {
   "cell_type": "code",
   "execution_count": null,
   "metadata": {
    "jukit_cell_id": "LhTqSZoKTo"
   },
   "outputs": [],
   "source": [
    "# check if all the rows are unique \n",
    "print(df_drugs_train.is_unique().all())"
   ]
  },
  {
   "cell_type": "code",
   "execution_count": null,
   "metadata": {
    "jukit_cell_id": "ncdP6b5ea8"
   },
   "outputs": [],
   "source": [
    "# check for nulls\n",
    "df_drugs_train.null_count()"
   ]
  },
  {
   "cell_type": "markdown",
   "metadata": {
    "jukit_cell_id": "xhwI5K3ug6"
   },
   "source": [
    "Since there are over 800 `null` values in `condition`, let's take a closer look. This column represents the medical conditions of respondents, so we cannot just drop those. Instead, we fill with `not_reported`. This ensures no null values."
   ]
  },
  {
   "cell_type": "code",
   "execution_count": null,
   "metadata": {
    "jukit_cell_id": "NfSU56oLQV"
   },
   "outputs": [],
   "source": [
    "# fill missing values with \"not_reported\"\n",
    "df_filled = df_drugs_train.with_columns(\n",
    "    pl.col(\"condition\").fill_null(pl.lit(\"not_reported\")),\n",
    ")\n",
    "\n",
    "# check if we no longer have null values\n",
    "print(df_filled.null_count())"
   ]
  },
  {
   "cell_type": "markdown",
   "metadata": {
    "jukit_cell_id": "TlA6M2SNHD"
   },
   "source": [
    "### Testing Data"
   ]
  },
  {
   "cell_type": "code",
   "execution_count": null,
   "metadata": {
    "jukit_cell_id": "oqIlkjmkac"
   },
   "outputs": [],
   "source": []
  },
  {
   "cell_type": "code",
   "execution_count": null,
   "metadata": {
    "jukit_cell_id": "M6zNKeGhsf"
   },
   "outputs": [],
   "source": []
  },
  {
   "cell_type": "markdown",
   "metadata": {
    "jukit_cell_id": "usVwDwg3iN"
   },
   "source": [
    "# XSUM Dataset"
   ]
  },
  {
   "cell_type": "code",
   "execution_count": null,
   "metadata": {
    "jukit_cell_id": "ZoYWry144X"
   },
   "outputs": [],
   "source": [
    "# df_xsum = pl.from_pandas(pd.read_parquet('xet://xsum/predictions.parquet'))\n",
    "# print(df_xsum.shape)\n",
    "# df_xsum.head()"
   ]
  },
  {
   "cell_type": "code",
   "execution_count": null,
   "metadata": {
    "jukit_cell_id": "YA2gz70CKy"
   },
   "outputs": [],
   "source": []
  },
  {
   "cell_type": "markdown",
   "metadata": {
    "jukit_cell_id": "OQUCsUjILc"
   },
   "source": [
    "# CNN/Dailymail Dataset"
   ]
  },
  {
   "cell_type": "code",
   "execution_count": null,
   "metadata": {
    "jukit_cell_id": "rK67ZRraL8"
   },
   "outputs": [],
   "source": [
    "# files_cnn = fs.ls('xet://cnn_dailymail/1.0.0')\n",
    "# df_dir = pl.from_dicts(files_cnn)\n",
    "# print(\"==================== Current Working Dir ls =====================\")\n",
    "# print(df_dir.head())\n",
    "# # print(df_dir.select([\"name\"]).head(1).item())\n",
    "# df_cnn = pl.from_pandas(pd.read_parquet('xet://{}'.format(df_dir.select([\"name\"]).head(1).item())))\n",
    "# # df_cnn = pl.from_pandas(pd.read_parquet('xet://cnn_dailymail/1.0.0/test-00000-of-00001.parquet'))\n",
    "# print(df_cnn.shape)\n",
    "# df_cnn.head()"
   ]
  },
  {
   "cell_type": "code",
   "execution_count": null,
   "metadata": {
    "jukit_cell_id": "hh7Mst4TfO"
   },
   "outputs": [],
   "source": []
  }
 ],
 "metadata": {
  "anaconda-cloud": {},
  "kernelspec": {
   "display_name": "Python 3 (ipykernel)",
   "language": "python",
   "name": "python3"
  },
  "language_info": {
   "codemirror_mode": {
    "name": "ipython",
    "version": 3
   },
   "file_extension": ".py",
   "mimetype": "text/x-python",
   "name": "python",
   "nbconvert_exporter": "python",
   "pygments_lexer": "ipython3",
   "version": "3.11.5"
  }
 },
 "nbformat": 4,
 "nbformat_minor": 4
}
