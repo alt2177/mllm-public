{
  "cells": [
    {
      "cell_type": "markdown",
      "metadata": {
        "jukit_cell_id": "sdycpZXZrM"
      },
      "source": [
        "# Data Visualization\n",
        "\n",
        "This notebook is meant for data visualization and (potential) preprocessing before using the data for model training. Our data is stored on XetHub, and we will use the Python SDK they provide to access our data without the need for local copies. \n",
        "\n",
        "First, installation of `pyxet` and other dependencies:"
      ]
    },
    {
      "cell_type": "code",
      "execution_count": 1,
      "metadata": {
        "jukit_cell_id": "nMxrpLiwao"
      },
      "outputs": [
        {
          "name": "stdout",
          "output_type": "stream",
          "text": [
            "Note: you may need to restart the kernel to use updated packages.\n",
            "Note: you may need to restart the kernel to use updated packages.\n",
            "Note: you may need to restart the kernel to use updated packages.\n",
            "Note: you may need to restart the kernel to use updated packages.\n",
            "Note: you may need to restart the kernel to use updated packages.\n"
          ]
        }
      ],
      "source": [
        "%pip install pyxet\n",
        "%pip install polars\n",
        "%pip install pandas\n",
        "%pip install numpy\n",
        "%pip install pyarrow"
      ]
    },
    {
      "cell_type": "markdown",
      "metadata": {
        "jukit_cell_id": "7BYmUih6BP"
      },
      "source": [
        "Now, let's install all the relevant libraries:"
      ]
    },
    {
      "cell_type": "code",
      "execution_count": 1,
      "metadata": {
        "jukit_cell_id": "pfw6CUAGvu"
      },
      "outputs": [],
      "source": [
        "import pyxet         # make xet:// protocol available   \n",
        "import pandas as pd \n",
        "import polars as pl  # faster alternative to pandas\n",
        "import numpy as np\n",
        "import pyarrow\n",
        "import matplotlib.pyplot as plt\n",
        "\n",
        "fs = pyxet.XetFS()"
      ]
    },
    {
      "cell_type": "markdown",
      "metadata": {
        "jukit_cell_id": "nFFgVYu23E"
      },
      "source": [
        "## Data Loading \n",
        "\n",
        "Now, let's access our data and load it into `pd.DataFrame` objects,"
      ]
    },
    {
      "cell_type": "code",
      "execution_count": 2,
      "metadata": {
        "jukit_cell_id": "XDe5SYSB0k"
      },
      "outputs": [
        {
          "data": {
            "text/html": [
              "<div><style>\n",
              ".dataframe > thead > tr,\n",
              ".dataframe > tbody > tr {\n",
              "  text-align: right;\n",
              "  white-space: pre-wrap;\n",
              "}\n",
              "</style>\n",
              "<small>shape: (10, 7)</small><table border=\"1\" class=\"dataframe\"><thead><tr><th></th><th>drugName</th><th>condition</th><th>review</th><th>rating</th><th>date</th><th>usefulCount</th></tr><tr><td>i64</td><td>str</td><td>str</td><td>str</td><td>f64</td><td>str</td><td>i64</td></tr></thead><tbody><tr><td>206461</td><td>&quot;Valsartan&quot;</td><td>&quot;Left Ventricul…</td><td>&quot;&quot;It has no sid…</td><td>9.0</td><td>&quot;May 20, 2012&quot;</td><td>27</td></tr><tr><td>95260</td><td>&quot;Guanfacine&quot;</td><td>&quot;ADHD&quot;</td><td>&quot;&quot;My son is hal…</td><td>8.0</td><td>&quot;April 27, 2010…</td><td>192</td></tr><tr><td>92703</td><td>&quot;Lybrel&quot;</td><td>&quot;Birth Control&quot;</td><td>&quot;&quot;I used to tak…</td><td>5.0</td><td>&quot;December 14, 2…</td><td>17</td></tr><tr><td>138000</td><td>&quot;Ortho Evra&quot;</td><td>&quot;Birth Control&quot;</td><td>&quot;&quot;This is my fi…</td><td>8.0</td><td>&quot;November 3, 20…</td><td>10</td></tr><tr><td>35696</td><td>&quot;Buprenorphine …</td><td>&quot;Opiate Depende…</td><td>&quot;&quot;Suboxone has …</td><td>9.0</td><td>&quot;November 27, 2…</td><td>37</td></tr><tr><td>155963</td><td>&quot;Cialis&quot;</td><td>&quot;Benign Prostat…</td><td>&quot;&quot;2nd day on 5m…</td><td>2.0</td><td>&quot;November 28, 2…</td><td>43</td></tr><tr><td>165907</td><td>&quot;Levonorgestrel…</td><td>&quot;Emergency Cont…</td><td>&quot;&quot;He pulled out…</td><td>1.0</td><td>&quot;March 7, 2017&quot;</td><td>5</td></tr><tr><td>102654</td><td>&quot;Aripiprazole&quot;</td><td>&quot;Bipolar Disord…</td><td>&quot;&quot;Abilify chang…</td><td>10.0</td><td>&quot;March 14, 2015…</td><td>32</td></tr><tr><td>74811</td><td>&quot;Keppra&quot;</td><td>&quot;Epilepsy&quot;</td><td>&quot;&quot; I Ve had  no…</td><td>1.0</td><td>&quot;August 9, 2016…</td><td>11</td></tr><tr><td>48928</td><td>&quot;Ethinyl estrad…</td><td>&quot;Birth Control&quot;</td><td>&quot;&quot;I had been on…</td><td>8.0</td><td>&quot;December 8, 20…</td><td>1</td></tr></tbody></table></div>"
            ],
            "text/plain": [
              "shape: (10, 7)\n",
              "┌────────┬────────────────┬────────────────┬────────────────┬────────┬───────────────┬─────────────┐\n",
              "│        ┆ drugName       ┆ condition      ┆ review         ┆ rating ┆ date          ┆ usefulCount │\n",
              "│ ---    ┆ ---            ┆ ---            ┆ ---            ┆ ---    ┆ ---           ┆ ---         │\n",
              "│ i64    ┆ str            ┆ str            ┆ str            ┆ f64    ┆ str           ┆ i64         │\n",
              "╞════════╪════════════════╪════════════════╪════════════════╪════════╪═══════════════╪═════════════╡\n",
              "│ 206461 ┆ Valsartan      ┆ Left           ┆ \"It has no     ┆ 9.0    ┆ May 20, 2012  ┆ 27          │\n",
              "│        ┆                ┆ Ventricular    ┆ side effect, I ┆        ┆               ┆             │\n",
              "│        ┆                ┆ Dysfunction    ┆ take i…        ┆        ┆               ┆             │\n",
              "│ 95260  ┆ Guanfacine     ┆ ADHD           ┆ \"My son is     ┆ 8.0    ┆ April 27,     ┆ 192         │\n",
              "│        ┆                ┆                ┆ halfway        ┆        ┆ 2010          ┆             │\n",
              "│        ┆                ┆                ┆ through his f… ┆        ┆               ┆             │\n",
              "│ 92703  ┆ Lybrel         ┆ Birth Control  ┆ \"I used to     ┆ 5.0    ┆ December 14,  ┆ 17          │\n",
              "│        ┆                ┆                ┆ take another   ┆        ┆ 2009          ┆             │\n",
              "│        ┆                ┆                ┆ oral con…      ┆        ┆               ┆             │\n",
              "│ 138000 ┆ Ortho Evra     ┆ Birth Control  ┆ \"This is my    ┆ 8.0    ┆ November 3,   ┆ 10          │\n",
              "│        ┆                ┆                ┆ first time     ┆        ┆ 2015          ┆             │\n",
              "│        ┆                ┆                ┆ using any…     ┆        ┆               ┆             │\n",
              "│ 35696  ┆ Buprenorphine  ┆ Opiate         ┆ \"Suboxone has  ┆ 9.0    ┆ November 27,  ┆ 37          │\n",
              "│        ┆ / naloxone     ┆ Dependence     ┆ completely     ┆        ┆ 2016          ┆             │\n",
              "│        ┆                ┆                ┆ turned …       ┆        ┆               ┆             │\n",
              "│ 155963 ┆ Cialis         ┆ Benign         ┆ \"2nd day on    ┆ 2.0    ┆ November 28,  ┆ 43          │\n",
              "│        ┆                ┆ Prostatic      ┆ 5mg started to ┆        ┆ 2015          ┆             │\n",
              "│        ┆                ┆ Hyperplasia    ┆ work …         ┆        ┆               ┆             │\n",
              "│ 165907 ┆ Levonorgestrel ┆ Emergency      ┆ \"He pulled     ┆ 1.0    ┆ March 7, 2017 ┆ 5           │\n",
              "│        ┆                ┆ Contraception  ┆ out, but he    ┆        ┆               ┆             │\n",
              "│        ┆                ┆                ┆ cummed a …     ┆        ┆               ┆             │\n",
              "│ 102654 ┆ Aripiprazole   ┆ Bipolar        ┆ \"Abilify       ┆ 10.0   ┆ March 14,     ┆ 32          │\n",
              "│        ┆                ┆ Disorde        ┆ changed my     ┆        ┆ 2015          ┆             │\n",
              "│        ┆                ┆                ┆ life. There …  ┆        ┆               ┆             │\n",
              "│ 74811  ┆ Keppra         ┆ Epilepsy       ┆ \" I Ve had     ┆ 1.0    ┆ August 9,     ┆ 11          │\n",
              "│        ┆                ┆                ┆ nothing but    ┆        ┆ 2016          ┆             │\n",
              "│        ┆                ┆                ┆ problems…      ┆        ┆               ┆             │\n",
              "│ 48928  ┆ Ethinyl        ┆ Birth Control  ┆ \"I had been on ┆ 8.0    ┆ December 8,   ┆ 1           │\n",
              "│        ┆ estradiol /    ┆                ┆ the pill for   ┆        ┆ 2016          ┆             │\n",
              "│        ┆ levonorgestr…  ┆                ┆ many…          ┆        ┆               ┆             │\n",
              "└────────┴────────────────┴────────────────┴────────────────┴────────┴───────────────┴─────────────┘"
            ]
          },
          "execution_count": 2,
          "metadata": {},
          "output_type": "execute_result"
        }
      ],
      "source": [
        "# get the drug training and testing data\n",
        "df_drugs_train = pl.read_csv('xet://drug_data/drugsComTrain_raw.tsv', separator = '\\t')\n",
        "df_drugs_test = pl.read_csv('xet://drug_data/drugsComTest_raw.tsv', separator = '\\t')\n",
        "df_drugs_train.head(10)"
      ]
    },
    {
      "cell_type": "code",
      "execution_count": 5,
      "metadata": {
        "jukit_cell_id": "iSvjEduknc"
      },
      "outputs": [
        {
          "ename": "TypeError",
          "evalue": "'Expr' object is not callable",
          "output_type": "error",
          "traceback": [
            "\u001b[0;31m---------------------------------------------------------------------------\u001b[0m",
            "\u001b[0;31mTypeError\u001b[0m                                 Traceback (most recent call last)",
            "\u001b[0;32m/tmp/ipykernel_352627/3521179749.py\u001b[0m in \u001b[0;36m<module>\u001b[0;34m\u001b[0m\n\u001b[0;32m----> 1\u001b[0;31m \u001b[0mdf_drugs_train\u001b[0m\u001b[0;34m.\u001b[0m\u001b[0mselect\u001b[0m\u001b[0;34m(\u001b[0m\u001b[0mpl\u001b[0m\u001b[0;34m.\u001b[0m\u001b[0mcol\u001b[0m\u001b[0;34m[\u001b[0m\u001b[0;36m165907\u001b[0m\u001b[0;34m]\u001b[0m\u001b[0;34m)\u001b[0m\u001b[0;34m\u001b[0m\u001b[0;34m\u001b[0m\u001b[0m\n\u001b[0m",
            "\u001b[0;31mTypeError\u001b[0m: 'Expr' object is not callable"
          ]
        }
      ],
      "source": [
        "df_drugs_train.select(pl.col[165907])"
      ]
    },
    {
      "cell_type": "code",
      "execution_count": 4,
      "metadata": {
        "jukit_cell_id": "mxG2mMa32O"
      },
      "outputs": [
        {
          "name": "stdout",
          "output_type": "stream",
          "text": [
            "(161297, 7)\n",
            "(53766, 7)\n"
          ]
        }
      ],
      "source": [
        "# get the shape of the training and testing sets\n",
        "print(df_drugs_train.shape)\n",
        "print(df_drugs_test.shape)"
      ]
    },
    {
      "cell_type": "code",
      "execution_count": 5,
      "metadata": {
        "jukit_cell_id": "7D4EMr5SJM"
      },
      "outputs": [
        {
          "name": "stdout",
          "output_type": "stream",
          "text": [
            "\n"
          ]
        },
        {
          "data": {
            "text/plain": [
              "'\"It has no side effect, I take it in combination of Bystolic 5 Mg and Fish Oil\"'"
            ]
          },
          "execution_count": 5,
          "metadata": {},
          "output_type": "execute_result"
        }
      ],
      "source": [
        "# preview one of the reviews\n",
        "df_drugs_train[\"review\"][0]"
      ]
    },
    {
      "cell_type": "markdown",
      "metadata": {
        "jukit_cell_id": "Gk50aixwSm"
      },
      "source": [
        "## Data Description / Visualization\n",
        "\n",
        "We now begin EDA, first looking at some simple summary statistics, checking for null values, and getting a feel for the data."
      ]
    },
    {
      "cell_type": "code",
      "execution_count": 6,
      "metadata": {
        "jukit_cell_id": "2yb9jP9hP0"
      },
      "outputs": [
        {
          "name": "stdout",
          "output_type": "stream",
          "text": [
            "\n"
          ]
        },
        {
          "data": {
            "text/plain": [
              "shape: (9, 8)\n",
              "┌────────┬────────┬────────┬───────┬───────┬───────┬───────┬───────┐\n",
              "│ descri ┆        ┆ drugNa ┆ condi ┆ revie ┆ ratin ┆ date  ┆ usefu │\n",
              "│ be     ┆ ---    ┆ me     ┆ tion  ┆ w     ┆ g     ┆ ---   ┆ lCoun │\n",
              "│ ---    ┆ f64    ┆ ---    ┆ ---   ┆ ---   ┆ ---   ┆ str   ┆ t     │\n",
              "│ str    ┆        ┆ str    ┆ str   ┆ str   ┆ f64   ┆       ┆ ---   │\n",
              "│        ┆        ┆        ┆       ┆       ┆       ┆       ┆ f64   │\n",
              "╞════════╪════════╪════════╪═══════╪═══════╪═══════╪═══════╪═══════╡\n",
              "│ count  ┆ 161297 ┆ 161297 ┆ 16129 ┆ 16129 ┆ 16129 ┆ 16129 ┆ 16129 │\n",
              "│        ┆ .0     ┆        ┆ 7     ┆ 7     ┆ 7.0   ┆ 7     ┆ 7.0   │\n",
              "│ null_c ┆ 0.0    ┆ 0      ┆ 899   ┆ 0     ┆ 0.0   ┆ 0     ┆ 0.0   │\n",
              "│ ount   ┆        ┆        ┆       ┆       ┆       ┆       ┆       │\n",
              "│ mean   ┆ 115923 ┆ null   ┆ null  ┆ null  ┆ 6.994 ┆ null  ┆ 28.00 │\n",
              "│        ┆ .58530 ┆        ┆       ┆       ┆ 377   ┆       ┆ 4755  │\n",
              "│        ┆ 5      ┆        ┆       ┆       ┆       ┆       ┆       │\n",
              "│ std    ┆ 67004. ┆ null   ┆ null  ┆ null  ┆ 3.272 ┆ null  ┆ 36.40 │\n",
              "│        ┆ 44517  ┆        ┆       ┆       ┆ 329   ┆       ┆ 3742  │\n",
              "│ min    ┆ 2.0    ┆ A + D  ┆ 0</sp ┆ \"\n",
              "     ┆ 1.0   ┆ April ┆ 0.0   │\n",
              "│        ┆        ┆ Cracke ┆ an>   ┆ \n",
              "      ┆       ┆ 1,    ┆       │\n",
              "│        ┆        ┆ d Skin ┆ users ┆ pleas ┆       ┆ 2008  ┆       │\n",
              "│        ┆        ┆ Relief ┆ found ┆ e     ┆       ┆       ┆       │\n",
              "│        ┆        ┆        ┆ this  ┆ tell  ┆       ┆       ┆       │\n",
              "│        ┆        ┆        ┆ comme ┆ the   ┆       ┆       ┆       │\n",
              "│        ┆        ┆        ┆ n…    ┆ ones  ┆       ┆       ┆       │\n",
              "│        ┆        ┆        ┆       ┆ who   ┆       ┆       ┆       │\n",
              "│        ┆        ┆        ┆       ┆ i…    ┆       ┆       ┆       │\n",
              "│ 25%    ┆ 58063. ┆ null   ┆ null  ┆ null  ┆ 5.0   ┆ null  ┆ 6.0   │\n",
              "│        ┆ 0      ┆        ┆       ┆       ┆       ┆       ┆       │\n",
              "│ 50%    ┆ 115744 ┆ null   ┆ null  ┆ null  ┆ 8.0   ┆ null  ┆ 16.0  │\n",
              "│        ┆ .0     ┆        ┆       ┆       ┆       ┆       ┆       │\n",
              "│ 75%    ┆ 173776 ┆ null   ┆ null  ┆ null  ┆ 10.0  ┆ null  ┆ 36.0  │\n",
              "│        ┆ .0     ┆        ┆       ┆       ┆       ┆       ┆       │\n",
              "│ max    ┆ 232291 ┆ femhrt ┆ zen   ┆ \"❤️❤️❤️  ┆ 10.0  ┆ Septe ┆ 1291. │\n",
              "│        ┆ .0     ┆        ┆ Shoul ┆ Ciali ┆       ┆ mber  ┆ 0     │\n",
              "│        ┆        ┆        ┆ de    ┆ s for ┆       ┆ 9,    ┆       │\n",
              "│        ┆        ┆        ┆       ┆ US!!  ┆       ┆ 2017  ┆       │\n",
              "│        ┆        ┆        ┆       ┆ I     ┆       ┆       ┆       │\n",
              "│        ┆        ┆        ┆       ┆ wis…  ┆       ┆       ┆       │\n",
              "└────────┴────────┴────────┴───────┴───────┴───────┴───────┴───────┘"
            ]
          },
          "execution_count": 6,
          "metadata": {},
          "output_type": "execute_result"
        }
      ],
      "source": [
        "# basic descriptions\n",
        "df_drugs_train.describe()"
      ]
    },
    {
      "cell_type": "code",
      "execution_count": 7,
      "metadata": {
        "jukit_cell_id": "FSBP8jnmPJ"
      },
      "outputs": [
        {
          "name": "stdout",
          "output_type": "stream",
          "text": [
            "\n"
          ]
        },
        {
          "data": {
            "text/plain": [
              "shape: (1, 7)\n",
              "┌─────┬──────────┬───────────┬────────┬────────┬──────┬────────────┐\n",
              "│     ┆ drugName ┆ condition ┆ review ┆ rating ┆ date ┆ usefulCoun │\n",
              "│ --- ┆ ---      ┆ ---       ┆ ---    ┆ ---    ┆ ---  ┆ t          │\n",
              "│ u32 ┆ u32      ┆ u32       ┆ u32    ┆ u32    ┆ u32  ┆ ---        │\n",
              "│     ┆          ┆           ┆        ┆        ┆      ┆ u32        │\n",
              "╞═════╪══════════╪═══════════╪════════╪════════╪══════╪════════════╡\n",
              "│ 0   ┆ 0        ┆ 899       ┆ 0      ┆ 0      ┆ 0    ┆ 0          │\n",
              "└─────┴──────────┴───────────┴────────┴────────┴──────┴────────────┘"
            ]
          },
          "execution_count": 7,
          "metadata": {},
          "output_type": "execute_result"
        }
      ],
      "source": [
        "# check for null values\n",
        "df_drugs_train.select(pl.all().is_null().sum())"
      ]
    },
    {
      "cell_type": "markdown",
      "metadata": {
        "jukit_cell_id": "pbGCONbb9F"
      },
      "source": [
        "Now, we look at the unique values we have in our columns"
      ]
    },
    {
      "cell_type": "code",
      "execution_count": 8,
      "metadata": {
        "jukit_cell_id": "5Dl54EdTfK"
      },
      "outputs": [
        {
          "name": "stdout",
          "output_type": "stream",
          "text": [
            "\n"
          ]
        },
        {
          "data": {
            "text/plain": [
              "shape: (10, 1)\n",
              "┌────────┐\n",
              "│ rating │\n",
              "│ ---    │\n",
              "│ f64    │\n",
              "╞════════╡\n",
              "│ 1.0    │\n",
              "│ 3.0    │\n",
              "│ 2.0    │\n",
              "│ 10.0   │\n",
              "│ …      │\n",
              "│ 9.0    │\n",
              "│ 7.0    │\n",
              "│ 5.0    │\n",
              "│ 8.0    │\n",
              "└────────┘"
            ]
          },
          "execution_count": 8,
          "metadata": {},
          "output_type": "execute_result"
        }
      ],
      "source": [
        "# check our ratings and see what unique values we have\n",
        "df_drugs_train.select(['rating']).unique()"
      ]
    },
    {
      "cell_type": "code",
      "execution_count": 9,
      "metadata": {
        "jukit_cell_id": "C5cPMqN2mq"
      },
      "outputs": [
        {
          "name": "stdout",
          "output_type": "stream",
          "text": [
            "\n"
          ]
        },
        {
          "data": {
            "text/plain": [
              "shape: (885,)\n",
              "Series: 'condition' [str]\n",
              "[\n",
              "\t\"mist (\"\n",
              "\t\"Ventricular Fi…\n",
              "\t\"NSAID-Induced …\n",
              "\t\"Peripheral T-c…\n",
              "\t\"Bronchitis\"\n",
              "\t\"Borderline Per…\n",
              "\t\"Renal Transpla…\n",
              "\t\"Hidradenitis S…\n",
              "\t\"Opiate Adjunct…\n",
              "\t\"Abdominal Dist…\n",
              "\t\"Postherpetic N…\n",
              "\t\"Warts\"\n",
              "\t…\n",
              "\t\"Gastrointestin…\n",
              "\t\"Ascariasis\"\n",
              "\t\"Ulcerative Pro…\n",
              "\t\"Dementia\"\n",
              "\t\"25</span> user…\n",
              "\t\"Hypoestrogenis…\n",
              "\t\"COPD, Acute\"\n",
              "\t\"41</span> user…\n",
              "\t\"New Daily Pers…\n",
              "\t\"Osteolytic Bon…\n",
              "\t\"23</span> user…\n",
              "\t\"123</span> use…\n",
              "\t\"Amyotrophic La…\n",
              "]"
            ]
          },
          "execution_count": 9,
          "metadata": {},
          "output_type": "execute_result"
        }
      ],
      "source": [
        "# check unique conditions\n",
        "df_drugs_train.select(['condition']).unique()['condition']"
      ]
    },
    {
      "cell_type": "code",
      "execution_count": 10,
      "metadata": {
        "jukit_cell_id": "qoJEnEq3Zi"
      },
      "outputs": [
        {
          "name": "stdout",
          "output_type": "stream",
          "text": [
            "\n"
          ]
        },
        {
          "data": {
            "text/plain": [
              "shape: (3_436,)\n",
              "Series: 'drugName' [str]\n",
              "[\n",
              "\t\"Delzicol\"\n",
              "\t\"CombiPatch\"\n",
              "\t\"Robitussin Col…\n",
              "\t\"Urispas\"\n",
              "\t\"Gildess Fe 1 /…\n",
              "\t\"Vienva\"\n",
              "\t\"Panitumumab\"\n",
              "\t\"Dorzolamide / …\n",
              "\t\"Magnacet\"\n",
              "\t\"Dextroamphetam…\n",
              "\t\"Perphenazine\"\n",
              "\t\"HyoMax SL\"\n",
              "\t…\n",
              "\t\"Duloxetine\"\n",
              "\t\"Junel 1.5 / 30…\n",
              "\t\"Travoprost\"\n",
              "\t\"Anafranil\"\n",
              "\t\"Buproban\"\n",
              "\t\"Prazosin\"\n",
              "\t\"Aranesp\"\n",
              "\t\"Sucralfate\"\n",
              "\t\"Ciprodex\"\n",
              "\t\"Degarelix\"\n",
              "\t\"Zanamivir\"\n",
              "\t\"Zyrtec-D\"\n",
              "\t\"Urso\"\n",
              "]"
            ]
          },
          "execution_count": 10,
          "metadata": {},
          "output_type": "execute_result"
        }
      ],
      "source": [
        "# check unique drug names \n",
        "df_drugs_train.select(['drugName']).unique()['drugName']"
      ]
    },
    {
      "cell_type": "code",
      "execution_count": 11,
      "metadata": {
        "jukit_cell_id": "t2c45vrRJz"
      },
      "outputs": [
        {
          "name": "stdout",
          "output_type": "stream",
          "text": [
            "\n"
          ]
        },
        {
          "data": {
            "text/plain": [
              "shape: (20,)\n",
              "Series: 'review' [str]\n",
              "[\n",
              "\t\"\"I was on the …\n",
              "\t\"\"Im only 15 an…\n",
              "\t\"\"I was diagnos…\n",
              "\t\"\"I&#039;ve tak…\n",
              "\t\"\"This is not t…\n",
              "\t\"\"I have many, …\n",
              "\t\"\"You won&#039;…\n",
              "\t\"\"I used this d…\n",
              "\t\"\"this medicine…\n",
              "\t\"\"Before this p…\n",
              "\t\"\"Prozac got ri…\n",
              "\t\"\"I&#039;ve bee…\n",
              "\t\"\"Flo max is a …\n",
              "\t\"\"Well so far I…\n",
              "\t\"\"I had unprote…\n",
              "\t\"\"At 37 I was w…\n",
              "\t\"\"This drug is …\n",
              "\t\"\"I have taken …\n",
              "\t\"\"I&#039;ve bee…\n",
              "\t\"\"I&#039;m goin…\n",
              "]"
            ]
          },
          "execution_count": 11,
          "metadata": {},
          "output_type": "execute_result"
        }
      ],
      "source": [
        "# look at the first 20 reviews\n",
        "df_drugs_train.select(['review']).unique()['review'][0:20]"
      ]
    },
    {
      "cell_type": "markdown",
      "metadata": {
        "jukit_cell_id": "j9uuzqiR0A"
      },
      "source": [
        "We now turn our attention to the reviews themselves. Some basic visualization:"
      ]
    },
    {
      "cell_type": "code",
      "execution_count": 7,
      "metadata": {
        "jukit_cell_id": "HWc657s24h"
      },
      "outputs": [
        {
          "data": {
            "text/html": [
              "<div><style>\n",
              ".dataframe > thead > tr,\n",
              ".dataframe > tbody > tr {\n",
              "  text-align: right;\n",
              "  white-space: pre-wrap;\n",
              "}\n",
              "</style>\n",
              "<small>shape: (9, 2)</small><table border=\"1\" class=\"dataframe\"><thead><tr><th>statistic</th><th>map</th></tr><tr><td>str</td><td>f64</td></tr></thead><tbody><tr><td>&quot;count&quot;</td><td>161297.0</td></tr><tr><td>&quot;null_count&quot;</td><td>0.0</td></tr><tr><td>&quot;mean&quot;</td><td>85.646788</td></tr><tr><td>&quot;std&quot;</td><td>45.507389</td></tr><tr><td>&quot;min&quot;</td><td>1.0</td></tr><tr><td>&quot;25%&quot;</td><td>49.0</td></tr><tr><td>&quot;50%&quot;</td><td>85.0</td></tr><tr><td>&quot;75%&quot;</td><td>127.0</td></tr><tr><td>&quot;max&quot;</td><td>1857.0</td></tr></tbody></table></div>"
            ],
            "text/plain": [
              "shape: (9, 2)\n",
              "┌────────────┬───────────┐\n",
              "│ statistic  ┆ map       │\n",
              "│ ---        ┆ ---       │\n",
              "│ str        ┆ f64       │\n",
              "╞════════════╪═══════════╡\n",
              "│ count      ┆ 161297.0  │\n",
              "│ null_count ┆ 0.0       │\n",
              "│ mean       ┆ 85.646788 │\n",
              "│ std        ┆ 45.507389 │\n",
              "│ min        ┆ 1.0       │\n",
              "│ 25%        ┆ 49.0      │\n",
              "│ 50%        ┆ 85.0      │\n",
              "│ 75%        ┆ 127.0     │\n",
              "│ max        ┆ 1857.0    │\n",
              "└────────────┴───────────┘"
            ]
          },
          "execution_count": 7,
          "metadata": {},
          "output_type": "execute_result"
        }
      ],
      "source": [
        "review_word_count = df_drugs_train.select(['review']).map_rows(lambda t: len(t[0].split(\" \")))\n",
        "review_word_count.describe()"
      ]
    },
    {
      "cell_type": "code",
      "execution_count": 13,
      "metadata": {
        "jukit_cell_id": "N9hsnW9cp9"
      },
      "outputs": [
        {
          "name": "stdout",
          "output_type": "stream",
          "text": [
            "Installed osx event loop hook.\n"
          ]
        },
        {
          "data": {
            "image/png": "[encoded data removed]"
          },
          "metadata": {},
          "output_type": "display_data"
        },
        {
          "name": "stdout",
          "output_type": "stream",
          "text": [
            "\n"
          ]
        }
      ],
      "source": [
        "# create figure \n",
        "plt.figure(figsize = (10, 6))\n",
        "\n",
        "# Remove top and right borders\n",
        "ax = plt.gca()\n",
        "ax.spines['top'].set_visible(False)\n",
        "ax.spines['right'].set_visible(False)\n",
        "\n",
        "# plotting\n",
        "plt.hist(df_drugs_train['rating'], bins = 10, color = \"cornflowerblue\", label = \"Rating\")\n",
        "plt.axvline(df_drugs_train['rating'].mean(), color = \"gold\", linestyle = \"dashed\", linewidth = 2, label = \"Average Rating\")\n",
        "plt.title(\"Distribution of Drug Ratings\")\n",
        "plt.savefig(\"rating_dist\")\n",
        "plt.xlabel('Score (from 1 to 10)')\n",
        "plt.ylabel('Frequency')\n",
        "plt.legend()\n",
        "plt.show()"
      ]
    },
    {
      "cell_type": "code",
      "execution_count": 8,
      "metadata": {
        "jukit_cell_id": "X6s3rvd4gD"
      },
      "outputs": [
        {
          "name": "stderr",
          "output_type": "stream",
          "text": [
            "No artists with labels found to put in legend.  Note that artists whose label start with an underscore are ignored when legend() is called with no argument.\n"
          ]
        },
        {
          "data": {
            "image/png": "[encoded data removed]",
            "text/plain": [
              "<Figure size 720x432 with 1 Axes>"
            ]
          },
          "metadata": {
            "needs_background": "light"
          },
          "output_type": "display_data"
        }
      ],
      "source": [
        "# create figure \n",
        "plt.figure(figsize = (10, 6))\n",
        "\n",
        "# Remove top and right borders\n",
        "ax = plt.gca()\n",
        "ax.spines['top'].set_visible(False)\n",
        "ax.spines['right'].set_visible(False)\n",
        "\n",
        "# plotting useful count (the number of users who found a particular review helpful)\n",
        "plt.hist(df_drugs_train['usefulCount'], range = [0, 200], bins = 100, color = \"violet\")\n",
        "plt.xlabel('Number of users who found the review helpful')\n",
        "plt.ylabel('Frequency')\n",
        "plt.title(\"Distribution of Useful Ratings\")\n",
        "plt.savefig(\"rating_dist\")\n",
        "plt.legend()\n",
        "plt.show()"
      ]
    },
    {
      "cell_type": "markdown",
      "metadata": {},
      "source": [
        "Now we consider the reviews. Specifically the word count of each review"
      ]
    },
    {
      "cell_type": "code",
      "execution_count": 9,
      "metadata": {
        "jukit_cell_id": "fjfsqaLMgZ"
      },
      "outputs": [
        {
          "name": "stdout",
          "output_type": "stream",
          "text": [
            "147.0\n",
            "14.0\n"
          ]
        }
      ],
      "source": [
        "print(np.quantile(review_word_count, 0.95))\n",
        "print(np.quantile(review_word_count, 0.05)) # 14 words"
      ]
    },
    {
      "cell_type": "code",
      "execution_count": 10,
      "metadata": {
        "jukit_cell_id": "ihHMAnQ3Pc"
      },
      "outputs": [
        {
          "data": {
            "image/png": "[encoded data removed]",
            "text/plain": [
              "<Figure size 720x432 with 1 Axes>"
            ]
          },
          "metadata": {
            "needs_background": "light"
          },
          "output_type": "display_data"
        }
      ],
      "source": [
        "plt.figure(figsize = (10, 6))\n",
        "\n",
        "# Remove top and right borders\n",
        "ax = plt.gca()\n",
        "ax.spines['top'].set_visible(False)\n",
        "ax.spines['right'].set_visible(False)\n",
        "\n",
        "plt.title(\"Distribution of Review Word Counts\")\n",
        "plt.xlabel('Word Count')\n",
        "plt.ylabel('Frequency')\n",
        "plt.xlim(14, 200)\n",
        "plt.hist(review_word_count, bins = 200, color = \"lightskyblue\")\n",
        "plt.axvline(review_word_count.mean().row(0)[0], color = \"gold\", linestyle = \"dashed\", linewidth = 2, label = \"Average Word Count\")\n",
        "plt.show()"
      ]
    },
    {
      "cell_type": "code",
      "execution_count": 11,
      "metadata": {
        "jukit_cell_id": "CDPsEMelgx"
      },
      "outputs": [
        {
          "name": "stdout",
          "output_type": "stream",
          "text": [
            "[shape: (161_297,)\n",
            "Series: 'map' [i64]\n",
            "[\n",
            "\t79\n",
            "\t741\n",
            "\t755\n",
            "\t448\n",
            "\t719\n",
            "\t403\n",
            "\t142\n",
            "\t733\n",
            "\t193\n",
            "\t737\n",
            "\t730\n",
            "\t460\n",
            "\t…\n",
            "\t700\n",
            "\t217\n",
            "\t233\n",
            "\t742\n",
            "\t760\n",
            "\t139\n",
            "\t432\n",
            "\t392\n",
            "\t689\n",
            "\t262\n",
            "\t95\n",
            "\t772\n",
            "\t347\n",
            "]]\n"
          ]
        },
        {
          "data": {
            "image/png": "[encoded data removed]",
            "text/plain": [
              "<Figure size 720x432 with 1 Axes>"
            ]
          },
          "metadata": {
            "needs_background": "light"
          },
          "output_type": "display_data"
        }
      ],
      "source": [
        "plt.figure(figsize = (10, 6))\n",
        "\n",
        "# Remove top and right borders\n",
        "ax = plt.gca()\n",
        "ax.spines['top'].set_visible(False)\n",
        "ax.spines['right'].set_visible(False)\n",
        "\n",
        "\n",
        "review_char_count = df_drugs_train.select(['review']).map_rows(lambda t: len(t[0]))\n",
        "print(list(review_char_count))\n",
        "plt.hist(review_word_count, bins = 200, color = \"lightskyblue\")\n",
        "plt.hist(review_char_count, bins = 500, alpha = 0.5, color = \"violet\")\n",
        "plt.xlim(14, 1000)\n",
        "plt.show()\n",
        "\n",
        "# Uncomment to inspect the reviews with less than or more than a certain number of words\n",
        "#for rev in df_drugs_train.filter(review_word_count['map'] < 5)['review']:\n",
        "#   print(rev.strip('\\n'))"
      ]
    },
    {
      "cell_type": "markdown",
      "metadata": {
        "jukit_cell_id": "GWBY7VfJKo"
      },
      "source": [
        "There are 5 reviews over 1000 words and two of them look identical. There might be more duplicates in the review column."
      ]
    },
    {
      "cell_type": "markdown",
      "metadata": {
        "jukit_cell_id": "oBD1Dolf6c"
      },
      "source": [
        "Getting the basic descriptive stats, data types, etc."
      ]
    },
    {
      "cell_type": "code",
      "execution_count": 18,
      "metadata": {
        "jukit_cell_id": "lXWP6Ypvta"
      },
      "outputs": [
        {
          "name": "stdout",
          "output_type": "stream",
          "text": [
            "\n"
          ]
        },
        {
          "data": {
            "text/plain": [
              "shape: (9, 8)\n",
              "┌────────┬────────┬────────┬───────┬───────┬───────┬───────┬───────┐\n",
              "│ descri ┆        ┆ drugNa ┆ condi ┆ revie ┆ ratin ┆ date  ┆ usefu │\n",
              "│ be     ┆ ---    ┆ me     ┆ tion  ┆ w     ┆ g     ┆ ---   ┆ lCoun │\n",
              "│ ---    ┆ f64    ┆ ---    ┆ ---   ┆ ---   ┆ ---   ┆ str   ┆ t     │\n",
              "│ str    ┆        ┆ str    ┆ str   ┆ str   ┆ f64   ┆       ┆ ---   │\n",
              "│        ┆        ┆        ┆       ┆       ┆       ┆       ┆ f64   │\n",
              "╞════════╪════════╪════════╪═══════╪═══════╪═══════╪═══════╪═══════╡\n",
              "│ count  ┆ 161297 ┆ 161297 ┆ 16129 ┆ 16129 ┆ 16129 ┆ 16129 ┆ 16129 │\n",
              "│        ┆ .0     ┆        ┆ 7     ┆ 7     ┆ 7.0   ┆ 7     ┆ 7.0   │\n",
              "│ null_c ┆ 0.0    ┆ 0      ┆ 899   ┆ 0     ┆ 0.0   ┆ 0     ┆ 0.0   │\n",
              "│ ount   ┆        ┆        ┆       ┆       ┆       ┆       ┆       │\n",
              "│ mean   ┆ 115923 ┆ null   ┆ null  ┆ null  ┆ 6.994 ┆ null  ┆ 28.00 │\n",
              "│        ┆ .58530 ┆        ┆       ┆       ┆ 377   ┆       ┆ 4755  │\n",
              "│        ┆ 5      ┆        ┆       ┆       ┆       ┆       ┆       │\n",
              "│ std    ┆ 67004. ┆ null   ┆ null  ┆ null  ┆ 3.272 ┆ null  ┆ 36.40 │\n",
              "│        ┆ 44517  ┆        ┆       ┆       ┆ 329   ┆       ┆ 3742  │\n",
              "│ min    ┆ 2.0    ┆ A + D  ┆ 0</sp ┆ \"\n",
              "     ┆ 1.0   ┆ April ┆ 0.0   │\n",
              "│        ┆        ┆ Cracke ┆ an>   ┆ \n",
              "      ┆       ┆ 1,    ┆       │\n",
              "│        ┆        ┆ d Skin ┆ users ┆ pleas ┆       ┆ 2008  ┆       │\n",
              "│        ┆        ┆ Relief ┆ found ┆ e     ┆       ┆       ┆       │\n",
              "│        ┆        ┆        ┆ this  ┆ tell  ┆       ┆       ┆       │\n",
              "│        ┆        ┆        ┆ comme ┆ the   ┆       ┆       ┆       │\n",
              "│        ┆        ┆        ┆ n…    ┆ ones  ┆       ┆       ┆       │\n",
              "│        ┆        ┆        ┆       ┆ who   ┆       ┆       ┆       │\n",
              "│        ┆        ┆        ┆       ┆ i…    ┆       ┆       ┆       │\n",
              "│ 25%    ┆ 58063. ┆ null   ┆ null  ┆ null  ┆ 5.0   ┆ null  ┆ 6.0   │\n",
              "│        ┆ 0      ┆        ┆       ┆       ┆       ┆       ┆       │\n",
              "│ 50%    ┆ 115744 ┆ null   ┆ null  ┆ null  ┆ 8.0   ┆ null  ┆ 16.0  │\n",
              "│        ┆ .0     ┆        ┆       ┆       ┆       ┆       ┆       │\n",
              "│ 75%    ┆ 173776 ┆ null   ┆ null  ┆ null  ┆ 10.0  ┆ null  ┆ 36.0  │\n",
              "│        ┆ .0     ┆        ┆       ┆       ┆       ┆       ┆       │\n",
              "│ max    ┆ 232291 ┆ femhrt ┆ zen   ┆ \"❤️❤️❤️  ┆ 10.0  ┆ Septe ┆ 1291. │\n",
              "│        ┆ .0     ┆        ┆ Shoul ┆ Ciali ┆       ┆ mber  ┆ 0     │\n",
              "│        ┆        ┆        ┆ de    ┆ s for ┆       ┆ 9,    ┆       │\n",
              "│        ┆        ┆        ┆       ┆ US!!  ┆       ┆ 2017  ┆       │\n",
              "│        ┆        ┆        ┆       ┆ I     ┆       ┆       ┆       │\n",
              "│        ┆        ┆        ┆       ┆ wis…  ┆       ┆       ┆       │\n",
              "└────────┴────────┴────────┴───────┴───────┴───────┴───────┴───────┘"
            ]
          },
          "execution_count": 18,
          "metadata": {},
          "output_type": "execute_result"
        }
      ],
      "source": [
        "# Get descripive stats\n",
        "df_drugs_train.describe()"
      ]
    },
    {
      "cell_type": "code",
      "execution_count": 19,
      "metadata": {
        "jukit_cell_id": "JpGtxbn2QX"
      },
      "outputs": [
        {
          "name": "stdout",
          "output_type": "stream",
          "text": [
            "\n"
          ]
        },
        {
          "data": {
            "text/plain": [
              "OrderedDict([('', Int64),\n",
              "             ('drugName', Utf8),\n",
              "             ('condition', Utf8),\n",
              "             ('review', Utf8),\n",
              "             ('rating', Float64),\n",
              "             ('date', Utf8),\n",
              "             ('usefulCount', Int64)])"
            ]
          },
          "execution_count": 19,
          "metadata": {},
          "output_type": "execute_result"
        }
      ],
      "source": [
        "# get column names and their dtypes\n",
        "df_drugs_train.schema"
      ]
    },
    {
      "cell_type": "code",
      "execution_count": 20,
      "metadata": {
        "jukit_cell_id": "v4l3KuCL1t"
      },
      "outputs": [
        {
          "name": "stdout",
          "output_type": "stream",
          "text": [
            "True\n"
          ]
        }
      ],
      "source": [
        "# check if all the rows are unique \n",
        "print(df_drugs_train.is_unique().all())"
      ]
    },
    {
      "cell_type": "code",
      "execution_count": 21,
      "metadata": {
        "jukit_cell_id": "gtNzKvKgCv"
      },
      "outputs": [
        {
          "name": "stdout",
          "output_type": "stream",
          "text": [
            "\n"
          ]
        },
        {
          "data": {
            "text/plain": [
              "shape: (1, 7)\n",
              "┌─────┬──────────┬───────────┬────────┬────────┬──────┬────────────┐\n",
              "│     ┆ drugName ┆ condition ┆ review ┆ rating ┆ date ┆ usefulCoun │\n",
              "│ --- ┆ ---      ┆ ---       ┆ ---    ┆ ---    ┆ ---  ┆ t          │\n",
              "│ u32 ┆ u32      ┆ u32       ┆ u32    ┆ u32    ┆ u32  ┆ ---        │\n",
              "│     ┆          ┆           ┆        ┆        ┆      ┆ u32        │\n",
              "╞═════╪══════════╪═══════════╪════════╪════════╪══════╪════════════╡\n",
              "│ 0   ┆ 0        ┆ 899       ┆ 0      ┆ 0      ┆ 0    ┆ 0          │\n",
              "└─────┴──────────┴───────────┴────────┴────────┴──────┴────────────┘"
            ]
          },
          "execution_count": 21,
          "metadata": {},
          "output_type": "execute_result"
        }
      ],
      "source": [
        "# check for nulls\n",
        "df_drugs_train.null_count()"
      ]
    },
    {
      "cell_type": "markdown",
      "metadata": {
        "jukit_cell_id": "6jlsonLhbC"
      },
      "source": [
        "Since there are over 800 `null` values in `condition`, let's take a closer look. This column represents the medical conditions of respondents, so we cannot just drop those. Instead, we fill with `not_reported`. This ensures no null values."
      ]
    },
    {
      "cell_type": "code",
      "execution_count": 22,
      "metadata": {
        "jukit_cell_id": "rDXvdNTgrT"
      },
      "outputs": [
        {
          "name": "stdout",
          "output_type": "stream",
          "text": [
            "shape: (1, 7)\n",
            "┌─────┬──────────┬───────────┬────────┬────────┬──────┬────────────┐\n",
            "│     ┆ drugName ┆ condition ┆ review ┆ rating ┆ date ┆ usefulCoun │\n",
            "│ --- ┆ ---      ┆ ---       ┆ ---    ┆ ---    ┆ ---  ┆ t          │\n",
            "│ u32 ┆ u32      ┆ u32       ┆ u32    ┆ u32    ┆ u32  ┆ ---        │\n",
            "│     ┆          ┆           ┆        ┆        ┆      ┆ u32        │\n",
            "╞═════╪══════════╪═══════════╪════════╪════════╪══════╪════════════╡\n",
            "│ 0   ┆ 0        ┆ 0         ┆ 0      ┆ 0      ┆ 0    ┆ 0          │\n",
            "└─────┴──────────┴───────────┴────────┴────────┴──────┴────────────┘\n"
          ]
        }
      ],
      "source": [
        "# fill missing values with \"not_reported\"\n",
        "df_filled = df_drugs_train.with_columns(\n",
        "    pl.col(\"condition\").fill_null(pl.lit(\"not_reported\")),\n",
        ")\n",
        "\n",
        "# check if we no longer have null values\n",
        "print(df_filled.null_count())"
      ]
    },
    {
      "cell_type": "markdown",
      "metadata": {
        "jukit_cell_id": "2eqByAP9BG"
      },
      "source": []
    },
    {
      "cell_type": "code",
      "execution_count": null,
      "metadata": {
        "jukit_cell_id": "AZDKulL54M"
      },
      "outputs": [],
      "source": []
    },
    {
      "cell_type": "code",
      "execution_count": null,
      "metadata": {
        "jukit_cell_id": "eq7QM3PAp6"
      },
      "outputs": [],
      "source": []
    },
    {
      "cell_type": "markdown",
      "metadata": {
        "jukit_cell_id": "KY2m8XKprf"
      },
      "source": [
        "# XSUM Dataset"
      ]
    },
    {
      "cell_type": "code",
      "execution_count": 23,
      "metadata": {
        "jukit_cell_id": "QoAjM81eKc"
      },
      "outputs": [
        {
          "name": "stdout",
          "output_type": "stream",
          "text": [
            "(11334, 3)\n"
          ]
        },
        {
          "data": {
            "text/plain": [
              "shape: (5, 3)\n",
              "┌──────────────────────┬─────────────────────┬─────────────────────┐\n",
              "│ text                 ┆ target              ┆ evaluation_predicti │\n",
              "│ ---                  ┆ ---                 ┆ ons                 │\n",
              "│ str                  ┆ str                 ┆ ---                 │\n",
              "│                      ┆                     ┆ list[i64]           │\n",
              "╞══════════════════════╪═════════════════════╪═════════════════════╡\n",
              "│ Amina Al-Jeffery,    ┆ A woman who claims  ┆ [0, 202, … 0]       │\n",
              "│ 21, who was bo…      ┆ her father ha…      ┆                     │\n",
              "│ The concerns came    ┆ JogScotland's       ┆ [0, 139, … 0]       │\n",
              "│ amid Sportscot…      ┆ future could be at… ┆                     │\n",
              "│ Backbench MPs can    ┆ Before Jeremy       ┆ [0, 9083, … 0]      │\n",
              "│ speak relative…      ┆ Corbyn became lead… ┆                     │\n",
              "│ The company says the ┆ Boeing has shown    ┆ [0, 23241, … 0]     │\n",
              "│ new overhea…         ┆ off its \"space …    ┆                     │\n",
              "│ The vote held on     ┆ The run-off         ┆ [0, 139, … 0]       │\n",
              "│ Friday was for …     ┆ parliamentary       ┆                     │\n",
              "│                      ┆ electi…             ┆                     │\n",
              "└──────────────────────┴─────────────────────┴─────────────────────┘"
            ]
          },
          "execution_count": 23,
          "metadata": {},
          "output_type": "execute_result"
        }
      ],
      "source": [
        "df_xsum = pl.from_pandas(pd.read_parquet('xet://xsum/predictions.parquet'))\n",
        "print(df_xsum.shape)\n",
        "df_xsum.head()"
      ]
    },
    {
      "cell_type": "code",
      "execution_count": null,
      "metadata": {
        "jukit_cell_id": "VP6E0UOBhb"
      },
      "outputs": [],
      "source": []
    },
    {
      "cell_type": "markdown",
      "metadata": {
        "jukit_cell_id": "uVCqSdLwbK"
      },
      "source": [
        "# CNN/Dailymail Dataset"
      ]
    },
    {
      "cell_type": "code",
      "execution_count": 24,
      "metadata": {
        "jukit_cell_id": "mnxXyXMNXV"
      },
      "outputs": [
        {
          "name": "stdout",
          "output_type": "stream",
          "text": [
            "==================== Current Working Dir ls =====================\n",
            "shape: (5, 3)\n",
            "┌───────────────────────────────────┬───────────┬──────┐\n",
            "│ name                              ┆ size      ┆ type │\n",
            "│ ---                               ┆ ---       ┆ ---  │\n",
            "│ str                               ┆ i64       ┆ str  │\n",
            "╞═══════════════════════════════════╪═══════════╪══════╡\n",
            "│ cnn_… ┆ 29994057  ┆ file │\n",
            "│ cnn_… ┆ 256494215 ┆ file │\n",
            "│ cnn_… ┆ 256538980 ┆ file │\n",
            "│ cnn_… ┆ 259242781 ┆ file │\n",
            "│ cnn_… ┆ 34657215  ┆ file │\n",
            "└───────────────────────────────────┴───────────┴──────┘\n",
            "(11490, 3)\n"
          ]
        },
        {
          "data": {
            "text/plain": [
              "shape: (5, 3)\n",
              "┌──────────────────────┬─────────────────────┬─────────────────────┐\n",
              "│ article              ┆ highlights          ┆ id                  │\n",
              "│ ---                  ┆ ---                 ┆ ---                 │\n",
              "│ str                  ┆ str                 ┆ str                 │\n",
              "╞══════════════════════╪═════════════════════╪═════════════════════╡\n",
              "│ (CNN)The Palestinian ┆ Membership gives    ┆ f001ec5c4704938247d │\n",
              "│ Authority o…         ┆ the ICC jurisdi…    ┆ 27a44948eebb3…      │\n",
              "│ (CNN)Never mind cats ┆ Theia, a bully      ┆ 230c522854991d053fe │\n",
              "│ having nine…         ┆ breed mix, was ap…  ┆ 98a718b1defa0…      │\n",
              "│ (CNN)If you've been  ┆ Mohammad Javad      ┆ 4495ba8f3a340d97a9d │\n",
              "│ following th…        ┆ Zarif has spent m…  ┆ f1476f8a35502…      │\n",
              "│ (CNN)Five Americans  ┆ 17 Americans were   ┆ a38e72fed88684ec8d6 │\n",
              "│ who were mon…        ┆ exposed to the…     ┆ 0dd5856282e99…      │\n",
              "│ (CNN)A Duke student  ┆ Student is no       ┆ c27cf1b136cc270023d │\n",
              "│ has admitted…        ┆ longer on Duke Uni… ┆ e959e7ab24638…      │\n",
              "└──────────────────────┴─────────────────────┴─────────────────────┘"
            ]
          },
          "execution_count": 24,
          "metadata": {},
          "output_type": "execute_result"
        }
      ],
      "source": [
        "files_cnn = fs.ls('xet://cnn_dailymail/1.0.0')\n",
        "df_dir = pl.from_dicts(files_cnn)\n",
        "print(\"==================== Current Working Dir ls =====================\")\n",
        "print(df_dir.head())\n",
        "# print(df_dir.select([\"name\"]).head(1).item())\n",
        "df_cnn = pl.from_pandas(pd.read_parquet('xet://{}'.format(df_dir.select([\"name\"]).head(1).item())))\n",
        "# df_cnn = pl.from_pandas(pd.read_parquet('xet://cnn_dailymail/1.0.0/test-00000-of-00001.parquet'))\n",
        "print(df_cnn.shape)\n",
        "df_cnn.head()"
      ]
    },
    {
      "cell_type": "code",
      "execution_count": null,
      "metadata": {
        "jukit_cell_id": "Nv3yr1vYoS"
      },
      "outputs": [],
      "source": []
    }
  ],
  "metadata": {
    "anaconda-cloud": {},
    "kernelspec": {
      "display_name": "python",
      "language": "python",
      "name": "python3"
    },
    "language_info": {
      "codemirror_mode": {
        "name": "ipython",
        "version": 3
      },
      "file_extension": ".py",
      "mimetype": "text/x-python",
      "name": "python",
      "nbconvert_exporter": "python",
      "pygments_lexer": "ipython3",
      "version": "3.10.12"
    }
  },
  "nbformat": 4,
  "nbformat_minor": 4
}
