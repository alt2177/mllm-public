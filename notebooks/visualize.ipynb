{
 "cells": [
  {
   "cell_type": "markdown",
   "metadata": {},
   "source": [
    "# Data Visualization\n",
    "\n",
    "This notebook is meant for data visualization and (potential) preprocessing before using the data for model training. Our data is stored on XetHub, and we will use the Python SDK they provide to access our data without the need for local copies. \n",
    "\n",
    "First, installation of `pyxet` and other dependencies:"
   ]
  },
  {
   "cell_type": "code",
   "execution_count": 1,
   "metadata": {},
   "outputs": [
    {
     "name": "stdout",
     "output_type": "stream",
     "text": [
      "Requirement already satisfied: pyxet in /opt/homebrew/lib/python3.11/site-packages (0.1.8)\n",
      "Requirement already satisfied: fsspec==2023.9.2 in /opt/homebrew/lib/python3.11/site-packages (from pyxet) (2023.9.2)\n",
      "Requirement already satisfied: typer>=0.9.0 in /opt/homebrew/lib/python3.11/site-packages (from pyxet) (0.9.0)\n",
      "Requirement already satisfied: tabulate>=0.9.0 in /opt/homebrew/lib/python3.11/site-packages (from pyxet) (0.9.0)\n",
      "Requirement already satisfied: s3fs>=2023.6.0 in /opt/homebrew/lib/python3.11/site-packages (from pyxet) (2023.9.2)\n",
      "Requirement already satisfied: aiobotocore~=2.5.4 in /opt/homebrew/lib/python3.11/site-packages (from s3fs>=2023.6.0->pyxet) (2.5.4)\n",
      "Requirement already satisfied: aiohttp!=4.0.0a0,!=4.0.0a1 in /opt/homebrew/lib/python3.11/site-packages (from s3fs>=2023.6.0->pyxet) (3.9.1)\n",
      "Requirement already satisfied: click<9.0.0,>=7.1.1 in /opt/homebrew/lib/python3.11/site-packages (from typer>=0.9.0->pyxet) (8.1.7)\n",
      "Requirement already satisfied: typing-extensions>=3.7.4.3 in /opt/homebrew/lib/python3.11/site-packages (from typer>=0.9.0->pyxet) (4.8.0)\n",
      "Requirement already satisfied: botocore<1.31.18,>=1.31.17 in /opt/homebrew/lib/python3.11/site-packages (from aiobotocore~=2.5.4->s3fs>=2023.6.0->pyxet) (1.31.17)\n",
      "Requirement already satisfied: wrapt<2.0.0,>=1.10.10 in /opt/homebrew/lib/python3.11/site-packages (from aiobotocore~=2.5.4->s3fs>=2023.6.0->pyxet) (1.16.0)\n",
      "Requirement already satisfied: aioitertools<1.0.0,>=0.5.1 in /opt/homebrew/lib/python3.11/site-packages (from aiobotocore~=2.5.4->s3fs>=2023.6.0->pyxet) (0.11.0)\n",
      "Requirement already satisfied: attrs>=17.3.0 in /opt/homebrew/lib/python3.11/site-packages (from aiohttp!=4.0.0a0,!=4.0.0a1->s3fs>=2023.6.0->pyxet) (23.1.0)\n",
      "Requirement already satisfied: multidict<7.0,>=4.5 in /opt/homebrew/lib/python3.11/site-packages (from aiohttp!=4.0.0a0,!=4.0.0a1->s3fs>=2023.6.0->pyxet) (6.0.4)\n",
      "Requirement already satisfied: yarl<2.0,>=1.0 in /opt/homebrew/lib/python3.11/site-packages (from aiohttp!=4.0.0a0,!=4.0.0a1->s3fs>=2023.6.0->pyxet) (1.9.3)\n",
      "Requirement already satisfied: frozenlist>=1.1.1 in /opt/homebrew/lib/python3.11/site-packages (from aiohttp!=4.0.0a0,!=4.0.0a1->s3fs>=2023.6.0->pyxet) (1.4.0)\n",
      "Requirement already satisfied: aiosignal>=1.1.2 in /opt/homebrew/lib/python3.11/site-packages (from aiohttp!=4.0.0a0,!=4.0.0a1->s3fs>=2023.6.0->pyxet) (1.3.1)\n",
      "Requirement already satisfied: jmespath<2.0.0,>=0.7.1 in /opt/homebrew/lib/python3.11/site-packages (from botocore<1.31.18,>=1.31.17->aiobotocore~=2.5.4->s3fs>=2023.6.0->pyxet) (1.0.1)\n",
      "Requirement already satisfied: python-dateutil<3.0.0,>=2.1 in /opt/homebrew/lib/python3.11/site-packages (from botocore<1.31.18,>=1.31.17->aiobotocore~=2.5.4->s3fs>=2023.6.0->pyxet) (2.8.2)\n",
      "Requirement already satisfied: urllib3<1.27,>=1.25.4 in /opt/homebrew/lib/python3.11/site-packages (from botocore<1.31.18,>=1.31.17->aiobotocore~=2.5.4->s3fs>=2023.6.0->pyxet) (1.26.18)\n",
      "Requirement already satisfied: idna>=2.0 in /opt/homebrew/lib/python3.11/site-packages (from yarl<2.0,>=1.0->aiohttp!=4.0.0a0,!=4.0.0a1->s3fs>=2023.6.0->pyxet) (3.4)\n",
      "Requirement already satisfied: six>=1.5 in /opt/homebrew/lib/python3.11/site-packages (from python-dateutil<3.0.0,>=2.1->botocore<1.31.18,>=1.31.17->aiobotocore~=2.5.4->s3fs>=2023.6.0->pyxet) (1.16.0)\n",
      "Note: you may need to restart the kernel to use updated packages.\n",
      "Requirement already satisfied: polars in /opt/homebrew/lib/python3.11/site-packages (0.19.12)\n",
      "Note: you may need to restart the kernel to use updated packages.\n",
      "Requirement already satisfied: pandas in /opt/homebrew/lib/python3.11/site-packages (2.0.3)\n",
      "Requirement already satisfied: python-dateutil>=2.8.2 in /opt/homebrew/lib/python3.11/site-packages (from pandas) (2.8.2)\n",
      "Requirement already satisfied: pytz>=2020.1 in /opt/homebrew/lib/python3.11/site-packages (from pandas) (2023.3)\n",
      "Requirement already satisfied: tzdata>=2022.1 in /opt/homebrew/lib/python3.11/site-packages (from pandas) (2023.3)\n",
      "Requirement already satisfied: numpy>=1.21.0 in /opt/homebrew/lib/python3.11/site-packages (from pandas) (1.25.2)\n",
      "Requirement already satisfied: six>=1.5 in /opt/homebrew/lib/python3.11/site-packages (from python-dateutil>=2.8.2->pandas) (1.16.0)\n",
      "Note: you may need to restart the kernel to use updated packages.\n",
      "Requirement already satisfied: numpy in /opt/homebrew/lib/python3.11/site-packages (1.25.2)\n",
      "Note: you may need to restart the kernel to use updated packages.\n",
      "Requirement already satisfied: pyarrow in /opt/homebrew/lib/python3.11/site-packages (13.0.0)\n",
      "Requirement already satisfied: numpy>=1.16.6 in /opt/homebrew/lib/python3.11/site-packages (from pyarrow) (1.25.2)\n",
      "Note: you may need to restart the kernel to use updated packages.\n"
     ]
    }
   ],
   "source": [
    "%pip install pyxet\n",
    "%pip install polars\n",
    "%pip install pandas\n",
    "%pip install numpy\n",
    "%pip install pyarrow"
   ]
  },
  {
   "cell_type": "code",
   "execution_count": 2,
   "metadata": {},
   "outputs": [],
   "source": [
    "import pyxet         # make xet:// protocol available   \n",
    "import pandas as pd \n",
    "import polars as pl  # faster alternative to pandas\n",
    "import numpy as np\n",
    "import pyarrow\n",
    "import matplotlib.pyplot as plt\n",
    "\n",
    "fs = pyxet.XetFS()"
   ]
  },
  {
   "cell_type": "markdown",
   "metadata": {},
   "source": [
    "# Drug Review Dataset (UCI)"
   ]
  },
  {
   "cell_type": "code",
   "execution_count": 6,
   "metadata": {},
   "outputs": [
    {
     "name": "stdout",
     "output_type": "stream",
     "text": [
      "(161297, 7)\n",
      "(53766, 7)\n"
     ]
    },
    {
     "data": {
      "text/html": [
       "<div><style>\n",
       ".dataframe > thead > tr > th,\n",
       ".dataframe > tbody > tr > td {\n",
       "  text-align: right;\n",
       "  white-space: pre-wrap;\n",
       "}\n",
       "</style>\n",
       "<small>shape: (10, 7)</small><table border=\"1\" class=\"dataframe\"><thead><tr><th></th><th>drugName</th><th>condition</th><th>review</th><th>rating</th><th>date</th><th>usefulCount</th></tr><tr><td>i64</td><td>str</td><td>str</td><td>str</td><td>f64</td><td>str</td><td>i64</td></tr></thead><tbody><tr><td>206461</td><td>&quot;Valsartan&quot;</td><td>&quot;Left Ventricul…</td><td>&quot;&quot;It has no sid…</td><td>9.0</td><td>&quot;May 20, 2012&quot;</td><td>27</td></tr><tr><td>95260</td><td>&quot;Guanfacine&quot;</td><td>&quot;ADHD&quot;</td><td>&quot;&quot;My son is hal…</td><td>8.0</td><td>&quot;April 27, 2010…</td><td>192</td></tr><tr><td>92703</td><td>&quot;Lybrel&quot;</td><td>&quot;Birth Control&quot;</td><td>&quot;&quot;I used to tak…</td><td>5.0</td><td>&quot;December 14, 2…</td><td>17</td></tr><tr><td>138000</td><td>&quot;Ortho Evra&quot;</td><td>&quot;Birth Control&quot;</td><td>&quot;&quot;This is my fi…</td><td>8.0</td><td>&quot;November 3, 20…</td><td>10</td></tr><tr><td>35696</td><td>&quot;Buprenorphine …</td><td>&quot;Opiate Depende…</td><td>&quot;&quot;Suboxone has …</td><td>9.0</td><td>&quot;November 27, 2…</td><td>37</td></tr><tr><td>155963</td><td>&quot;Cialis&quot;</td><td>&quot;Benign Prostat…</td><td>&quot;&quot;2nd day on 5m…</td><td>2.0</td><td>&quot;November 28, 2…</td><td>43</td></tr><tr><td>165907</td><td>&quot;Levonorgestrel…</td><td>&quot;Emergency Cont…</td><td>&quot;&quot;He pulled out…</td><td>1.0</td><td>&quot;March 7, 2017&quot;</td><td>5</td></tr><tr><td>102654</td><td>&quot;Aripiprazole&quot;</td><td>&quot;Bipolar Disord…</td><td>&quot;&quot;Abilify chang…</td><td>10.0</td><td>&quot;March 14, 2015…</td><td>32</td></tr><tr><td>74811</td><td>&quot;Keppra&quot;</td><td>&quot;Epilepsy&quot;</td><td>&quot;&quot; I Ve had  no…</td><td>1.0</td><td>&quot;August 9, 2016…</td><td>11</td></tr><tr><td>48928</td><td>&quot;Ethinyl estrad…</td><td>&quot;Birth Control&quot;</td><td>&quot;&quot;I had been on…</td><td>8.0</td><td>&quot;December 8, 20…</td><td>1</td></tr></tbody></table></div>"
      ],
      "text/plain": [
       "shape: (10, 7)\n",
       "┌────────┬────────────────┬────────────────┬────────────────┬────────┬───────────────┬─────────────┐\n",
       "│        ┆ drugName       ┆ condition      ┆ review         ┆ rating ┆ date          ┆ usefulCount │\n",
       "│ ---    ┆ ---            ┆ ---            ┆ ---            ┆ ---    ┆ ---           ┆ ---         │\n",
       "│ i64    ┆ str            ┆ str            ┆ str            ┆ f64    ┆ str           ┆ i64         │\n",
       "╞════════╪════════════════╪════════════════╪════════════════╪════════╪═══════════════╪═════════════╡\n",
       "│ 206461 ┆ Valsartan      ┆ Left           ┆ \"It has no     ┆ 9.0    ┆ May 20, 2012  ┆ 27          │\n",
       "│        ┆                ┆ Ventricular    ┆ side effect, I ┆        ┆               ┆             │\n",
       "│        ┆                ┆ Dysfunction    ┆ take i…        ┆        ┆               ┆             │\n",
       "│ 95260  ┆ Guanfacine     ┆ ADHD           ┆ \"My son is     ┆ 8.0    ┆ April 27,     ┆ 192         │\n",
       "│        ┆                ┆                ┆ halfway        ┆        ┆ 2010          ┆             │\n",
       "│        ┆                ┆                ┆ through his f… ┆        ┆               ┆             │\n",
       "│ 92703  ┆ Lybrel         ┆ Birth Control  ┆ \"I used to     ┆ 5.0    ┆ December 14,  ┆ 17          │\n",
       "│        ┆                ┆                ┆ take another   ┆        ┆ 2009          ┆             │\n",
       "│        ┆                ┆                ┆ oral con…      ┆        ┆               ┆             │\n",
       "│ 138000 ┆ Ortho Evra     ┆ Birth Control  ┆ \"This is my    ┆ 8.0    ┆ November 3,   ┆ 10          │\n",
       "│        ┆                ┆                ┆ first time     ┆        ┆ 2015          ┆             │\n",
       "│        ┆                ┆                ┆ using any…     ┆        ┆               ┆             │\n",
       "│ …      ┆ …              ┆ …              ┆ …              ┆ …      ┆ …             ┆ …           │\n",
       "│ 165907 ┆ Levonorgestrel ┆ Emergency      ┆ \"He pulled     ┆ 1.0    ┆ March 7, 2017 ┆ 5           │\n",
       "│        ┆                ┆ Contraception  ┆ out, but he    ┆        ┆               ┆             │\n",
       "│        ┆                ┆                ┆ cummed a …     ┆        ┆               ┆             │\n",
       "│ 102654 ┆ Aripiprazole   ┆ Bipolar        ┆ \"Abilify       ┆ 10.0   ┆ March 14,     ┆ 32          │\n",
       "│        ┆                ┆ Disorde        ┆ changed my     ┆        ┆ 2015          ┆             │\n",
       "│        ┆                ┆                ┆ life. There …  ┆        ┆               ┆             │\n",
       "│ 74811  ┆ Keppra         ┆ Epilepsy       ┆ \" I Ve had     ┆ 1.0    ┆ August 9,     ┆ 11          │\n",
       "│        ┆                ┆                ┆ nothing but    ┆        ┆ 2016          ┆             │\n",
       "│        ┆                ┆                ┆ problems…      ┆        ┆               ┆             │\n",
       "│ 48928  ┆ Ethinyl        ┆ Birth Control  ┆ \"I had been on ┆ 8.0    ┆ December 8,   ┆ 1           │\n",
       "│        ┆ estradiol /    ┆                ┆ the pill for   ┆        ┆ 2016          ┆             │\n",
       "│        ┆ levonorgestr…  ┆                ┆ many…          ┆        ┆               ┆             │\n",
       "└────────┴────────────────┴────────────────┴────────────────┴────────┴───────────────┴─────────────┘"
      ]
     },
     "execution_count": 6,
     "metadata": {},
     "output_type": "execute_result"
    }
   ],
   "source": [
    "# get the drug training and testing data\n",
    "df_drugs_train = pl.read_csv('xet://drug_data/drugsComTrain_raw.tsv', separator = '\\t')\n",
    "df_drugs_test = pl.read_csv('xet://drug_data/drugsComTest_raw.tsv', separator = '\\t')\n",
    "print(df_drugs_train.shape)\n",
    "print(df_drugs_test.shape)\n",
    "df_drugs_train.head(10)"
   ]
  },
  {
   "cell_type": "code",
   "execution_count": 37,
   "metadata": {},
   "outputs": [
    {
     "data": {
      "text/plain": [
       "'\"It has no side effect, I take it in combination of Bystolic 5 Mg and Fish Oil\"'"
      ]
     },
     "execution_count": 37,
     "metadata": {},
     "output_type": "execute_result"
    }
   ],
   "source": [
    "df_drugs_train[\"review\"][0]"
   ]
  },
  {
   "cell_type": "markdown",
   "metadata": {},
   "source": [
    "## Data Description / Visualization"
   ]
  },
  {
   "cell_type": "markdown",
   "metadata": {},
   "source": [
    "### Training Data"
   ]
  },
  {
   "cell_type": "code",
   "execution_count": null,
   "metadata": {},
   "outputs": [],
   "source": [
    "# df_drugs_train.dtypes  #= [Int64, String, String, String, Float64, String, Int64]\n",
    "df_drugs_train.describe()\n",
    "df_drugs_train.select(pl.all().is_null().sum())\n",
    "\n",
    "#df_drugs_train.select(['rating']).unique()\n",
    "# for cond in df_drugs_train.select(['condition']).unique()['condition']:\n",
    "#     print(cond)\n",
    "# for drug in df_drugs_train.select(['drugName']).unique()['drugName']:\n",
    "#     print(drug)\n",
    "# for rev in df_drugs_train.select(['review']).unique()['review'][0:20]:\n",
    "#     print(rev)\n",
    "\n",
    "review_word_count = df_drugs_train.select(['review']).map_rows(lambda t: len(t[0].split(\" \")))\n",
    "#plt.hist(review_word_count)\n",
    "review_word_count.describe()\n",
    "plt.hist(df_drugs_train['rating'], bins = 10)\n",
    "plt.hist(df_drugs_train['usefulCount'], bins = 100)\n",
    "#df_drugs_train.select(['usefulCount']).unique()\n"
   ]
  },
  {
   "cell_type": "code",
   "execution_count": 1,
   "metadata": {},
   "outputs": [
    {
     "name": "stdout",
     "output_type": "stream",
     "text": [
      "garbage\n"
     ]
    }
   ],
   "source": [
    "print(\"garbage\")"
   ]
  },
  {
   "cell_type": "markdown",
   "metadata": {},
   "source": [
    "Getting the basic descriptive stats, data types, etc."
   ]
  },
  {
   "cell_type": "code",
   "execution_count": 33,
   "metadata": {},
   "outputs": [
    {
     "data": {
      "text/html": [
       "<div><style>\n",
       ".dataframe > thead > tr > th,\n",
       ".dataframe > tbody > tr > td {\n",
       "  text-align: right;\n",
       "  white-space: pre-wrap;\n",
       "}\n",
       "</style>\n",
       "<small>shape: (9, 8)</small><table border=\"1\" class=\"dataframe\"><thead><tr><th>describe</th><th></th><th>drugName</th><th>condition</th><th>review</th><th>rating</th><th>date</th><th>usefulCount</th></tr><tr><td>str</td><td>f64</td><td>str</td><td>str</td><td>str</td><td>f64</td><td>str</td><td>f64</td></tr></thead><tbody><tr><td>&quot;count&quot;</td><td>161297.0</td><td>&quot;161297&quot;</td><td>&quot;161297&quot;</td><td>&quot;161297&quot;</td><td>161297.0</td><td>&quot;161297&quot;</td><td>161297.0</td></tr><tr><td>&quot;null_count&quot;</td><td>0.0</td><td>&quot;0&quot;</td><td>&quot;899&quot;</td><td>&quot;0&quot;</td><td>0.0</td><td>&quot;0&quot;</td><td>0.0</td></tr><tr><td>&quot;mean&quot;</td><td>115923.585305</td><td>null</td><td>null</td><td>null</td><td>6.994377</td><td>null</td><td>28.004755</td></tr><tr><td>&quot;std&quot;</td><td>67004.44517</td><td>null</td><td>null</td><td>null</td><td>3.272329</td><td>null</td><td>36.403742</td></tr><tr><td>&quot;min&quot;</td><td>2.0</td><td>&quot;A + D Cracked …</td><td>&quot;0&lt;/span&gt; users…</td><td>&quot;&quot;\r\n",
       "\r\n",
       " please t…</td><td>1.0</td><td>&quot;April 1, 2008&quot;</td><td>0.0</td></tr><tr><td>&quot;25%&quot;</td><td>58063.0</td><td>null</td><td>null</td><td>null</td><td>5.0</td><td>null</td><td>6.0</td></tr><tr><td>&quot;50%&quot;</td><td>115744.0</td><td>null</td><td>null</td><td>null</td><td>8.0</td><td>null</td><td>16.0</td></tr><tr><td>&quot;75%&quot;</td><td>173776.0</td><td>null</td><td>null</td><td>null</td><td>10.0</td><td>null</td><td>36.0</td></tr><tr><td>&quot;max&quot;</td><td>232291.0</td><td>&quot;femhrt&quot;</td><td>&quot;zen Shoulde&quot;</td><td>&quot;&quot;❤️❤️❤️ Cialis…</td><td>10.0</td><td>&quot;September 9, 2…</td><td>1291.0</td></tr></tbody></table></div>"
      ],
      "text/plain": [
       "shape: (9, 8)\n",
       "┌────────────┬────────────┬────────────┬────────────┬───────────┬──────────┬───────────┬───────────┐\n",
       "│ describe   ┆            ┆ drugName   ┆ condition  ┆ review    ┆ rating   ┆ date      ┆ usefulCou │\n",
       "│ ---        ┆ ---        ┆ ---        ┆ ---        ┆ ---       ┆ ---      ┆ ---       ┆ nt        │\n",
       "│ str        ┆ f64        ┆ str        ┆ str        ┆ str       ┆ f64      ┆ str       ┆ ---       │\n",
       "│            ┆            ┆            ┆            ┆           ┆          ┆           ┆ f64       │\n",
       "╞════════════╪════════════╪════════════╪════════════╪═══════════╪══════════╪═══════════╪═══════════╡\n",
       "│ count      ┆ 161297.0   ┆ 161297     ┆ 161297     ┆ 161297    ┆ 161297.0 ┆ 161297    ┆ 161297.0  │\n",
       "│ null_count ┆ 0.0        ┆ 0          ┆ 899        ┆ 0         ┆ 0.0      ┆ 0         ┆ 0.0       │\n",
       "│ mean       ┆ 115923.585 ┆ null       ┆ null       ┆ null      ┆ 6.994377 ┆ null      ┆ 28.004755 │\n",
       "│            ┆ 305        ┆            ┆            ┆           ┆          ┆           ┆           │\n",
       "│ std        ┆ 67004.4451 ┆ null       ┆ null       ┆ null      ┆ 3.272329 ┆ null      ┆ 36.403742 │\n",
       "│            ┆ 7          ┆            ┆            ┆           ┆          ┆           ┆           │\n",
       "│ min        ┆ 2.0        ┆ A + D      ┆ 0</span>   ┆ \"\n",
       "         ┆ 1.0      ┆ April 1,  ┆ 0.0       │\n",
       "│            ┆            ┆ Cracked    ┆ users      ┆ \n",
       "          ┆          ┆ 2008      ┆           │\n",
       "│            ┆            ┆ Skin       ┆ found this ┆ please    ┆          ┆           ┆           │\n",
       "│            ┆            ┆ Relief     ┆ commen…    ┆ tell the  ┆          ┆           ┆           │\n",
       "│            ┆            ┆            ┆            ┆ ones who  ┆          ┆           ┆           │\n",
       "│            ┆            ┆            ┆            ┆ i…        ┆          ┆           ┆           │\n",
       "│ 25%        ┆ 58063.0    ┆ null       ┆ null       ┆ null      ┆ 5.0      ┆ null      ┆ 6.0       │\n",
       "│ 50%        ┆ 115744.0   ┆ null       ┆ null       ┆ null      ┆ 8.0      ┆ null      ┆ 16.0      │\n",
       "│ 75%        ┆ 173776.0   ┆ null       ┆ null       ┆ null      ┆ 10.0     ┆ null      ┆ 36.0      │\n",
       "│ max        ┆ 232291.0   ┆ femhrt     ┆ zen        ┆ \"❤️❤️❤️      ┆ 10.0     ┆ September ┆ 1291.0    │\n",
       "│            ┆            ┆            ┆ Shoulde    ┆ Cialis    ┆          ┆ 9, 2017   ┆           │\n",
       "│            ┆            ┆            ┆            ┆ for US!!  ┆          ┆           ┆           │\n",
       "│            ┆            ┆            ┆            ┆ I wis…    ┆          ┆           ┆           │\n",
       "└────────────┴────────────┴────────────┴────────────┴───────────┴──────────┴───────────┴───────────┘"
      ]
     },
     "execution_count": 33,
     "metadata": {},
     "output_type": "execute_result"
    }
   ],
   "source": [
    "# Get descripive stats\n",
    "df_drugs_train.describe()"
   ]
  },
  {
   "cell_type": "code",
   "execution_count": 34,
   "metadata": {},
   "outputs": [
    {
     "data": {
      "text/plain": [
       "OrderedDict([('', Int64),\n",
       "             ('drugName', Utf8),\n",
       "             ('condition', Utf8),\n",
       "             ('review', Utf8),\n",
       "             ('rating', Float64),\n",
       "             ('date', Utf8),\n",
       "             ('usefulCount', Int64)])"
      ]
     },
     "execution_count": 34,
     "metadata": {},
     "output_type": "execute_result"
    }
   ],
   "source": [
    "# get column names and their dtypes\n",
    "df_drugs_train.schema"
   ]
  },
  {
   "cell_type": "code",
   "execution_count": 25,
   "metadata": {},
   "outputs": [
    {
     "name": "stdout",
     "output_type": "stream",
     "text": [
      "True\n"
     ]
    }
   ],
   "source": [
    "# check if all the rows are unique \n",
    "print(df_drugs_train.is_unique().all())"
   ]
  },
  {
   "cell_type": "code",
   "execution_count": 35,
   "metadata": {},
   "outputs": [
    {
     "data": {
      "text/html": [
       "<div><style>\n",
       ".dataframe > thead > tr > th,\n",
       ".dataframe > tbody > tr > td {\n",
       "  text-align: right;\n",
       "  white-space: pre-wrap;\n",
       "}\n",
       "</style>\n",
       "<small>shape: (1, 7)</small><table border=\"1\" class=\"dataframe\"><thead><tr><th></th><th>drugName</th><th>condition</th><th>review</th><th>rating</th><th>date</th><th>usefulCount</th></tr><tr><td>u32</td><td>u32</td><td>u32</td><td>u32</td><td>u32</td><td>u32</td><td>u32</td></tr></thead><tbody><tr><td>0</td><td>0</td><td>899</td><td>0</td><td>0</td><td>0</td><td>0</td></tr></tbody></table></div>"
      ],
      "text/plain": [
       "shape: (1, 7)\n",
       "┌─────┬──────────┬───────────┬────────┬────────┬──────┬─────────────┐\n",
       "│     ┆ drugName ┆ condition ┆ review ┆ rating ┆ date ┆ usefulCount │\n",
       "│ --- ┆ ---      ┆ ---       ┆ ---    ┆ ---    ┆ ---  ┆ ---         │\n",
       "│ u32 ┆ u32      ┆ u32       ┆ u32    ┆ u32    ┆ u32  ┆ u32         │\n",
       "╞═════╪══════════╪═══════════╪════════╪════════╪══════╪═════════════╡\n",
       "│ 0   ┆ 0        ┆ 899       ┆ 0      ┆ 0      ┆ 0    ┆ 0           │\n",
       "└─────┴──────────┴───────────┴────────┴────────┴──────┴─────────────┘"
      ]
     },
     "execution_count": 35,
     "metadata": {},
     "output_type": "execute_result"
    }
   ],
   "source": [
    "# check for nulls\n",
    "df_drugs_train.null_count()"
   ]
  },
  {
   "cell_type": "markdown",
   "metadata": {},
   "source": [
    "Since there are over 800 `null` values in `condition`, let's take a closer look. This column represents the medical conditions of respondents, so we cannot just drop those. Instead, we fill with `not_reported`. This ensures no null values."
   ]
  },
  {
   "cell_type": "code",
   "execution_count": 51,
   "metadata": {},
   "outputs": [
    {
     "name": "stdout",
     "output_type": "stream",
     "text": [
      "shape: (1, 7)\n",
      "┌─────┬──────────┬───────────┬────────┬────────┬──────┬─────────────┐\n",
      "│     ┆ drugName ┆ condition ┆ review ┆ rating ┆ date ┆ usefulCount │\n",
      "│ --- ┆ ---      ┆ ---       ┆ ---    ┆ ---    ┆ ---  ┆ ---         │\n",
      "│ u32 ┆ u32      ┆ u32       ┆ u32    ┆ u32    ┆ u32  ┆ u32         │\n",
      "╞═════╪══════════╪═══════════╪════════╪════════╪══════╪═════════════╡\n",
      "│ 0   ┆ 0        ┆ 0         ┆ 0      ┆ 0      ┆ 0    ┆ 0           │\n",
      "└─────┴──────────┴───────────┴────────┴────────┴──────┴─────────────┘\n"
     ]
    }
   ],
   "source": [
    "# fill missing values with \"not_reported\"\n",
    "df_filled = df_drugs_train.with_columns(\n",
    "    pl.col(\"condition\").fill_null(pl.lit(\"not_reported\")),\n",
    ")\n",
    "\n",
    "# check if we no longer have null values\n",
    "print(df_filled.null_count())"
   ]
  },
  {
   "cell_type": "markdown",
   "metadata": {},
   "source": [
    "### Testing Data"
   ]
  },
  {
   "cell_type": "code",
   "execution_count": null,
   "metadata": {},
   "outputs": [],
   "source": []
  },
  {
   "cell_type": "code",
   "execution_count": null,
   "metadata": {},
   "outputs": [],
   "source": []
  },
  {
   "cell_type": "markdown",
   "metadata": {},
   "source": [
    "# XSUM Dataset"
   ]
  },
  {
   "cell_type": "code",
   "execution_count": 4,
   "metadata": {},
   "outputs": [
    {
     "name": "stdout",
     "output_type": "stream",
     "text": [
      "(11334, 3)\n"
     ]
    },
    {
     "data": {
      "text/html": [
       "<div><style>\n",
       ".dataframe > thead > tr > th,\n",
       ".dataframe > tbody > tr > td {\n",
       "  text-align: right;\n",
       "  white-space: pre-wrap;\n",
       "}\n",
       "</style>\n",
       "<small>shape: (5, 3)</small><table border=\"1\" class=\"dataframe\"><thead><tr><th>text</th><th>target</th><th>evaluation_predictions</th></tr><tr><td>str</td><td>str</td><td>list[i64]</td></tr></thead><tbody><tr><td>&quot;Amina Al-Jeffe…</td><td>&quot;A woman who cl…</td><td>[0, 202, … 0]</td></tr><tr><td>&quot;The concerns c…</td><td>&quot;JogScotland&#x27;s …</td><td>[0, 139, … 0]</td></tr><tr><td>&quot;Backbench MPs …</td><td>&quot;Before Jeremy …</td><td>[0, 9083, … 0]</td></tr><tr><td>&quot;The company sa…</td><td>&quot;Boeing has sho…</td><td>[0, 23241, … 0]</td></tr><tr><td>&quot;The vote held …</td><td>&quot;The run-off pa…</td><td>[0, 139, … 0]</td></tr></tbody></table></div>"
      ],
      "text/plain": [
       "shape: (5, 3)\n",
       "┌───────────────────────────────────┬───────────────────────────────────┬────────────────────────┐\n",
       "│ text                              ┆ target                            ┆ evaluation_predictions │\n",
       "│ ---                               ┆ ---                               ┆ ---                    │\n",
       "│ str                               ┆ str                               ┆ list[i64]              │\n",
       "╞═══════════════════════════════════╪═══════════════════════════════════╪════════════════════════╡\n",
       "│ Amina Al-Jeffery, 21, who was bo… ┆ A woman who claims her father ha… ┆ [0, 202, … 0]          │\n",
       "│ The concerns came amid Sportscot… ┆ JogScotland's future could be at… ┆ [0, 139, … 0]          │\n",
       "│ Backbench MPs can speak relative… ┆ Before Jeremy Corbyn became lead… ┆ [0, 9083, … 0]         │\n",
       "│ The company says the new overhea… ┆ Boeing has shown off its \"space … ┆ [0, 23241, … 0]        │\n",
       "│ The vote held on Friday was for … ┆ The run-off parliamentary electi… ┆ [0, 139, … 0]          │\n",
       "└───────────────────────────────────┴───────────────────────────────────┴────────────────────────┘"
      ]
     },
     "execution_count": 4,
     "metadata": {},
     "output_type": "execute_result"
    }
   ],
   "source": [
    "df_xsum = pl.from_pandas(pd.read_parquet('xet://xsum/predictions.parquet'))\n",
    "print(df_xsum.shape)\n",
    "df_xsum.head()"
   ]
  },
  {
   "cell_type": "code",
   "execution_count": null,
   "metadata": {},
   "outputs": [],
   "source": []
  },
  {
   "cell_type": "markdown",
   "metadata": {},
   "source": [
    "# CNN/Dailymail Dataset"
   ]
  },
  {
   "cell_type": "code",
   "execution_count": 5,
   "metadata": {},
   "outputs": [
    {
     "name": "stdout",
     "output_type": "stream",
     "text": [
      "==================== Current Working Dir ls =====================\n",
      "shape: (5, 3)\n",
      "┌───────────────────────────────────┬───────────┬──────┐\n",
      "│ name                              ┆ size      ┆ type │\n",
      "│ ---                               ┆ ---       ┆ ---  │\n",
      "│ str                               ┆ i64       ┆ str  │\n",
      "╞═══════════════════════════════════╪═══════════╪══════╡\n",
      "│ cnn_… ┆ 29994057  ┆ file │\n",
      "│ cnn_… ┆ 256494215 ┆ file │\n",
      "│ cnn_… ┆ 256538980 ┆ file │\n",
      "│ cnn_… ┆ 259242781 ┆ file │\n",
      "│ cnn_… ┆ 34657215  ┆ file │\n",
      "└───────────────────────────────────┴───────────┴──────┘\n",
      "(11490, 3)\n"
     ]
    },
    {
     "data": {
      "text/html": [
       "<div><style>\n",
       ".dataframe > thead > tr > th,\n",
       ".dataframe > tbody > tr > td {\n",
       "  text-align: right;\n",
       "  white-space: pre-wrap;\n",
       "}\n",
       "</style>\n",
       "<small>shape: (5, 3)</small><table border=\"1\" class=\"dataframe\"><thead><tr><th>article</th><th>highlights</th><th>id</th></tr><tr><td>str</td><td>str</td><td>str</td></tr></thead><tbody><tr><td>&quot;(CNN)The Pales…</td><td>&quot;Membership giv…</td><td>&quot;f001ec5c470493…</td></tr><tr><td>&quot;(CNN)Never min…</td><td>&quot;Theia, a bully…</td><td>&quot;230c522854991d…</td></tr><tr><td>&quot;(CNN)If you&#x27;ve…</td><td>&quot;Mohammad Javad…</td><td>&quot;4495ba8f3a340d…</td></tr><tr><td>&quot;(CNN)Five Amer…</td><td>&quot;17 Americans w…</td><td>&quot;a38e72fed88684…</td></tr><tr><td>&quot;(CNN)A Duke st…</td><td>&quot;Student is no …</td><td>&quot;c27cf1b136cc27…</td></tr></tbody></table></div>"
      ],
      "text/plain": [
       "shape: (5, 3)\n",
       "┌────────────────────────────────┬────────────────────────────────┬────────────────────────────────┐\n",
       "│ article                        ┆ highlights                     ┆ id                             │\n",
       "│ ---                            ┆ ---                            ┆ ---                            │\n",
       "│ str                            ┆ str                            ┆ str                            │\n",
       "╞════════════════════════════════╪════════════════════════════════╪════════════════════════════════╡\n",
       "│ (CNN)The Palestinian Authority ┆ Membership gives the ICC       ┆ f001ec5c4704938247d27a44948eeb │\n",
       "│ o…                             ┆ jurisdi…                       ┆ b3…                            │\n",
       "│ (CNN)Never mind cats having    ┆ Theia, a bully breed mix, was  ┆ 230c522854991d053fe98a718b1def │\n",
       "│ nine…                          ┆ ap…                            ┆ a0…                            │\n",
       "│ (CNN)If you've been following  ┆ Mohammad Javad Zarif has spent ┆ 4495ba8f3a340d97a9df1476f8a355 │\n",
       "│ th…                            ┆ m…                             ┆ 02…                            │\n",
       "│ (CNN)Five Americans who were   ┆ 17 Americans were exposed to   ┆ a38e72fed88684ec8d60dd5856282e │\n",
       "│ mon…                           ┆ the…                           ┆ 99…                            │\n",
       "│ (CNN)A Duke student has        ┆ Student is no longer on Duke   ┆ c27cf1b136cc270023de959e7ab246 │\n",
       "│ admitted…                      ┆ Uni…                           ┆ 38…                            │\n",
       "└────────────────────────────────┴────────────────────────────────┴────────────────────────────────┘"
      ]
     },
     "execution_count": 5,
     "metadata": {},
     "output_type": "execute_result"
    }
   ],
   "source": [
    "files_cnn = fs.ls('xet://cnn_dailymail/1.0.0')\n",
    "df_dir = pl.from_dicts(files_cnn)\n",
    "print(\"==================== Current Working Dir ls =====================\")\n",
    "print(df_dir.head())\n",
    "# print(df_dir.select([\"name\"]).head(1).item())\n",
    "df_cnn = pl.from_pandas(pd.read_parquet('xet://{}'.format(df_dir.select([\"name\"]).head(1).item())))\n",
    "# df_cnn = pl.from_pandas(pd.read_parquet('xet://cnn_dailymail/1.0.0/test-00000-of-00001.parquet'))\n",
    "print(df_cnn.shape)\n",
    "df_cnn.head()"
   ]
  },
  {
   "cell_type": "code",
   "execution_count": null,
   "metadata": {},
   "outputs": [],
   "source": []
  }
 ],
 "metadata": {
  "kernelspec": {
   "display_name": ".venv",
   "language": "python",
   "name": "python3"
  },
  "language_info": {
   "codemirror_mode": {
    "name": "ipython",
    "version": 3
   },
   "file_extension": ".py",
   "mimetype": "text/x-python",
   "name": "python",
   "nbconvert_exporter": "python",
   "pygments_lexer": "ipython3",
   "version": "3.11.5"
  }
 },
 "nbformat": 4,
 "nbformat_minor": 2
}
